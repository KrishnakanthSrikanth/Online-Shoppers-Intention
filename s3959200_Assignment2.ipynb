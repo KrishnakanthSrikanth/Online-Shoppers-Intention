{
 "cells": [
  {
   "cell_type": "markdown",
   "id": "e8f5fa56",
   "metadata": {},
   "source": [
    "## Assignment 2: Data Modelling and Presentation\n",
    "#### Name: Krishnakanth Srikanth\n",
    "#### Student Number: s3959200\n",
    "------------"
   ]
  },
  {
   "cell_type": "markdown",
   "id": "9c3db8ad",
   "metadata": {},
   "source": [
    "### Project Goal\n",
    "\n",
    "The main goal of this project is to design a classification model, that is able to **predict the intention of an online shopper (buy or no buy)**, based on the values of the given features.\n",
    "\n",
    "Here, I will try two different classification algorithms (**KNN Classifier and Decision Tree Classifier**), and compare their performance, in order to pick the best one for this project."
   ]
  },
  {
   "cell_type": "markdown",
   "id": "40db7211",
   "metadata": {},
   "source": [
    "### Task 1: Retrieving and Preparing the Data"
   ]
  },
  {
   "cell_type": "markdown",
   "id": "405a4840",
   "metadata": {},
   "source": [
    "###### Importing necessary libraries"
   ]
  },
  {
   "cell_type": "code",
   "execution_count": 1,
   "id": "d5ee5400",
   "metadata": {},
   "outputs": [],
   "source": [
    "import pandas as pd\n",
    "import numpy as np\n",
    "pd.set_option('display.max_columns', None) \n",
    "import matplotlib.pyplot as plt\n",
    "%matplotlib inline\n",
    "import seaborn as sns\n",
    "import warnings\n",
    "warnings.filterwarnings('ignore')\n",
    "from sklearn.model_selection import train_test_split\n",
    "from sklearn.neighbors import KNeighborsClassifier\n",
    "from sklearn.metrics import mean_squared_error\n",
    "from sklearn.tree import DecisionTreeClassifier\n",
    "from sklearn.metrics import confusion_matrix, classification_report, f1_score\n",
    "from sklearn.utils import shuffle\n",
    "from sklearn import tree"
   ]
  },
  {
   "cell_type": "markdown",
   "id": "4c823cdb",
   "metadata": {},
   "source": [
    "###### Importing the data set"
   ]
  },
  {
   "cell_type": "code",
   "execution_count": 2,
   "id": "7410ca0a",
   "metadata": {},
   "outputs": [
    {
     "data": {
      "text/html": [
       "<div>\n",
       "<style scoped>\n",
       "    .dataframe tbody tr th:only-of-type {\n",
       "        vertical-align: middle;\n",
       "    }\n",
       "\n",
       "    .dataframe tbody tr th {\n",
       "        vertical-align: top;\n",
       "    }\n",
       "\n",
       "    .dataframe thead th {\n",
       "        text-align: right;\n",
       "    }\n",
       "</style>\n",
       "<table border=\"1\" class=\"dataframe\">\n",
       "  <thead>\n",
       "    <tr style=\"text-align: right;\">\n",
       "      <th></th>\n",
       "      <th>Administrative</th>\n",
       "      <th>Administrative_Duration</th>\n",
       "      <th>Informational</th>\n",
       "      <th>Informational_Duration</th>\n",
       "      <th>ProductRelated</th>\n",
       "      <th>ProductRelated_Duration</th>\n",
       "      <th>BounceRates</th>\n",
       "      <th>ExitRates</th>\n",
       "      <th>PageValues</th>\n",
       "      <th>SpecialDay</th>\n",
       "      <th>Month</th>\n",
       "      <th>OperatingSystems</th>\n",
       "      <th>Browser</th>\n",
       "      <th>Region</th>\n",
       "      <th>TrafficType</th>\n",
       "      <th>VisitorType</th>\n",
       "      <th>Weekend</th>\n",
       "      <th>Revenue</th>\n",
       "    </tr>\n",
       "  </thead>\n",
       "  <tbody>\n",
       "    <tr>\n",
       "      <th>0</th>\n",
       "      <td>0</td>\n",
       "      <td>0.0</td>\n",
       "      <td>0</td>\n",
       "      <td>0.0</td>\n",
       "      <td>1</td>\n",
       "      <td>0.000000</td>\n",
       "      <td>0.20</td>\n",
       "      <td>0.20</td>\n",
       "      <td>0.0</td>\n",
       "      <td>0.0</td>\n",
       "      <td>Feb</td>\n",
       "      <td>1</td>\n",
       "      <td>1</td>\n",
       "      <td>1</td>\n",
       "      <td>1</td>\n",
       "      <td>Returning_Visitor</td>\n",
       "      <td>False</td>\n",
       "      <td>False</td>\n",
       "    </tr>\n",
       "    <tr>\n",
       "      <th>1</th>\n",
       "      <td>0</td>\n",
       "      <td>0.0</td>\n",
       "      <td>0</td>\n",
       "      <td>0.0</td>\n",
       "      <td>2</td>\n",
       "      <td>64.000000</td>\n",
       "      <td>0.00</td>\n",
       "      <td>0.10</td>\n",
       "      <td>0.0</td>\n",
       "      <td>0.0</td>\n",
       "      <td>Feb</td>\n",
       "      <td>2</td>\n",
       "      <td>2</td>\n",
       "      <td>1</td>\n",
       "      <td>2</td>\n",
       "      <td>Returning_Visitor</td>\n",
       "      <td>False</td>\n",
       "      <td>False</td>\n",
       "    </tr>\n",
       "    <tr>\n",
       "      <th>2</th>\n",
       "      <td>0</td>\n",
       "      <td>0.0</td>\n",
       "      <td>0</td>\n",
       "      <td>0.0</td>\n",
       "      <td>1</td>\n",
       "      <td>0.000000</td>\n",
       "      <td>0.20</td>\n",
       "      <td>0.20</td>\n",
       "      <td>0.0</td>\n",
       "      <td>0.0</td>\n",
       "      <td>Feb</td>\n",
       "      <td>4</td>\n",
       "      <td>1</td>\n",
       "      <td>9</td>\n",
       "      <td>3</td>\n",
       "      <td>Returning_Visitor</td>\n",
       "      <td>False</td>\n",
       "      <td>False</td>\n",
       "    </tr>\n",
       "    <tr>\n",
       "      <th>3</th>\n",
       "      <td>0</td>\n",
       "      <td>0.0</td>\n",
       "      <td>0</td>\n",
       "      <td>0.0</td>\n",
       "      <td>2</td>\n",
       "      <td>2.666667</td>\n",
       "      <td>0.05</td>\n",
       "      <td>0.14</td>\n",
       "      <td>0.0</td>\n",
       "      <td>0.0</td>\n",
       "      <td>Feb</td>\n",
       "      <td>3</td>\n",
       "      <td>2</td>\n",
       "      <td>2</td>\n",
       "      <td>4</td>\n",
       "      <td>Returning_Visitor</td>\n",
       "      <td>False</td>\n",
       "      <td>False</td>\n",
       "    </tr>\n",
       "    <tr>\n",
       "      <th>4</th>\n",
       "      <td>0</td>\n",
       "      <td>0.0</td>\n",
       "      <td>0</td>\n",
       "      <td>0.0</td>\n",
       "      <td>10</td>\n",
       "      <td>627.500000</td>\n",
       "      <td>0.02</td>\n",
       "      <td>0.05</td>\n",
       "      <td>0.0</td>\n",
       "      <td>0.0</td>\n",
       "      <td>Feb</td>\n",
       "      <td>3</td>\n",
       "      <td>3</td>\n",
       "      <td>1</td>\n",
       "      <td>4</td>\n",
       "      <td>Returning_Visitor</td>\n",
       "      <td>True</td>\n",
       "      <td>False</td>\n",
       "    </tr>\n",
       "  </tbody>\n",
       "</table>\n",
       "</div>"
      ],
      "text/plain": [
       "   Administrative  Administrative_Duration  Informational  \\\n",
       "0               0                      0.0              0   \n",
       "1               0                      0.0              0   \n",
       "2               0                      0.0              0   \n",
       "3               0                      0.0              0   \n",
       "4               0                      0.0              0   \n",
       "\n",
       "   Informational_Duration  ProductRelated  ProductRelated_Duration  \\\n",
       "0                     0.0               1                 0.000000   \n",
       "1                     0.0               2                64.000000   \n",
       "2                     0.0               1                 0.000000   \n",
       "3                     0.0               2                 2.666667   \n",
       "4                     0.0              10               627.500000   \n",
       "\n",
       "   BounceRates  ExitRates  PageValues  SpecialDay Month  OperatingSystems  \\\n",
       "0         0.20       0.20         0.0         0.0   Feb                 1   \n",
       "1         0.00       0.10         0.0         0.0   Feb                 2   \n",
       "2         0.20       0.20         0.0         0.0   Feb                 4   \n",
       "3         0.05       0.14         0.0         0.0   Feb                 3   \n",
       "4         0.02       0.05         0.0         0.0   Feb                 3   \n",
       "\n",
       "   Browser  Region  TrafficType        VisitorType  Weekend  Revenue  \n",
       "0        1       1            1  Returning_Visitor    False    False  \n",
       "1        2       1            2  Returning_Visitor    False    False  \n",
       "2        1       9            3  Returning_Visitor    False    False  \n",
       "3        2       2            4  Returning_Visitor    False    False  \n",
       "4        3       1            4  Returning_Visitor     True    False  "
      ]
     },
     "execution_count": 2,
     "metadata": {},
     "output_type": "execute_result"
    }
   ],
   "source": [
    "orig_data = pd.read_csv('online_shoppers_intention.csv', error_bad_lines=False, header=0, skipinitialspace=True)\n",
    "orig_data.head()"
   ]
  },
  {
   "cell_type": "markdown",
   "id": "d9674168",
   "metadata": {},
   "source": [
    "###### Making a copy of original data set"
   ]
  },
  {
   "cell_type": "code",
   "execution_count": 3,
   "id": "d6846217",
   "metadata": {},
   "outputs": [],
   "source": [
    "data = orig_data.copy()"
   ]
  },
  {
   "cell_type": "markdown",
   "id": "37b0e32c",
   "metadata": {},
   "source": [
    "###### Checking the data types of the attributes"
   ]
  },
  {
   "cell_type": "code",
   "execution_count": 4,
   "id": "7380319e",
   "metadata": {},
   "outputs": [
    {
     "data": {
      "text/plain": [
       "Administrative               int64\n",
       "Administrative_Duration    float64\n",
       "Informational                int64\n",
       "Informational_Duration     float64\n",
       "ProductRelated               int64\n",
       "ProductRelated_Duration    float64\n",
       "BounceRates                float64\n",
       "ExitRates                  float64\n",
       "PageValues                 float64\n",
       "SpecialDay                 float64\n",
       "Month                       object\n",
       "OperatingSystems             int64\n",
       "Browser                      int64\n",
       "Region                       int64\n",
       "TrafficType                  int64\n",
       "VisitorType                 object\n",
       "Weekend                       bool\n",
       "Revenue                       bool\n",
       "dtype: object"
      ]
     },
     "execution_count": 4,
     "metadata": {},
     "output_type": "execute_result"
    }
   ],
   "source": [
    "data.dtypes"
   ]
  },
  {
   "cell_type": "markdown",
   "id": "93f4ed40",
   "metadata": {},
   "source": [
    "###### Checking the categorical values for any incorrect or duplicates"
   ]
  },
  {
   "cell_type": "markdown",
   "id": "f8d77379",
   "metadata": {},
   "source": [
    "As per the documentation, there are 8 categorical variables. We proceed to check if there are any duplicates or incorrect values on those features below."
   ]
  },
  {
   "cell_type": "code",
   "execution_count": 5,
   "id": "9ca6b1f9",
   "metadata": {},
   "outputs": [
    {
     "data": {
      "text/plain": [
       "May     3364\n",
       "Nov     2998\n",
       "Mar     1907\n",
       "Dec     1727\n",
       "Oct      549\n",
       "Sep      448\n",
       "Aug      433\n",
       "Jul      432\n",
       "June     288\n",
       "Feb      184\n",
       "Name: Month, dtype: int64"
      ]
     },
     "execution_count": 5,
     "metadata": {},
     "output_type": "execute_result"
    }
   ],
   "source": [
    "data['Month'].value_counts()"
   ]
  },
  {
   "cell_type": "code",
   "execution_count": 6,
   "id": "457e8a6a",
   "metadata": {},
   "outputs": [
    {
     "data": {
      "text/plain": [
       "Returning_Visitor    10551\n",
       "New_Visitor           1694\n",
       "Other                   85\n",
       "Name: VisitorType, dtype: int64"
      ]
     },
     "execution_count": 6,
     "metadata": {},
     "output_type": "execute_result"
    }
   ],
   "source": [
    "data['VisitorType'].value_counts()"
   ]
  },
  {
   "cell_type": "code",
   "execution_count": 7,
   "id": "eb3ad674",
   "metadata": {},
   "outputs": [
    {
     "data": {
      "text/plain": [
       "False    9462\n",
       "True     2868\n",
       "Name: Weekend, dtype: int64"
      ]
     },
     "execution_count": 7,
     "metadata": {},
     "output_type": "execute_result"
    }
   ],
   "source": [
    "data['Weekend'].value_counts()"
   ]
  },
  {
   "cell_type": "code",
   "execution_count": 8,
   "id": "f972dc52",
   "metadata": {},
   "outputs": [
    {
     "data": {
      "text/plain": [
       "False    10422\n",
       "True      1908\n",
       "Name: Revenue, dtype: int64"
      ]
     },
     "execution_count": 8,
     "metadata": {},
     "output_type": "execute_result"
    }
   ],
   "source": [
    "data['Revenue'].value_counts()"
   ]
  },
  {
   "cell_type": "code",
   "execution_count": 9,
   "id": "6dfd7350",
   "metadata": {},
   "outputs": [
    {
     "data": {
      "text/plain": [
       "2    6601\n",
       "1    2585\n",
       "3    2555\n",
       "4     478\n",
       "8      79\n",
       "6      19\n",
       "7       7\n",
       "5       6\n",
       "Name: OperatingSystems, dtype: int64"
      ]
     },
     "execution_count": 9,
     "metadata": {},
     "output_type": "execute_result"
    }
   ],
   "source": [
    "data['OperatingSystems'].value_counts()"
   ]
  },
  {
   "cell_type": "code",
   "execution_count": 10,
   "id": "08295875",
   "metadata": {},
   "outputs": [
    {
     "data": {
      "text/plain": [
       "2     7961\n",
       "1     2462\n",
       "4      736\n",
       "5      467\n",
       "6      174\n",
       "10     163\n",
       "8      135\n",
       "3      105\n",
       "13      61\n",
       "7       49\n",
       "12      10\n",
       "11       6\n",
       "9        1\n",
       "Name: Browser, dtype: int64"
      ]
     },
     "execution_count": 10,
     "metadata": {},
     "output_type": "execute_result"
    }
   ],
   "source": [
    "data['Browser'].value_counts()"
   ]
  },
  {
   "cell_type": "code",
   "execution_count": 11,
   "id": "4c0b0661",
   "metadata": {},
   "outputs": [
    {
     "data": {
      "text/plain": [
       "1    4780\n",
       "3    2403\n",
       "4    1182\n",
       "2    1136\n",
       "6     805\n",
       "7     761\n",
       "9     511\n",
       "8     434\n",
       "5     318\n",
       "Name: Region, dtype: int64"
      ]
     },
     "execution_count": 11,
     "metadata": {},
     "output_type": "execute_result"
    }
   ],
   "source": [
    "data['Region'].value_counts()"
   ]
  },
  {
   "cell_type": "code",
   "execution_count": 12,
   "id": "f0972f3a",
   "metadata": {},
   "outputs": [
    {
     "data": {
      "text/plain": [
       "2     3913\n",
       "1     2451\n",
       "3     2052\n",
       "4     1069\n",
       "13     738\n",
       "10     450\n",
       "6      444\n",
       "8      343\n",
       "5      260\n",
       "11     247\n",
       "20     198\n",
       "9       42\n",
       "7       40\n",
       "15      38\n",
       "19      17\n",
       "14      13\n",
       "18      10\n",
       "16       3\n",
       "12       1\n",
       "17       1\n",
       "Name: TrafficType, dtype: int64"
      ]
     },
     "execution_count": 12,
     "metadata": {},
     "output_type": "execute_result"
    }
   ],
   "source": [
    "data['TrafficType'].value_counts()"
   ]
  },
  {
   "cell_type": "markdown",
   "id": "941a4ec3",
   "metadata": {},
   "source": [
    "Now that the categorical attributes have been checked for any duplicates or incorrect values, we proceed with checking the null/NA/missing values."
   ]
  },
  {
   "cell_type": "markdown",
   "id": "ee8371f5",
   "metadata": {},
   "source": [
    "###### Check for null values"
   ]
  },
  {
   "cell_type": "code",
   "execution_count": 13,
   "id": "a7373054",
   "metadata": {},
   "outputs": [
    {
     "data": {
      "text/plain": [
       "Administrative             0\n",
       "Administrative_Duration    0\n",
       "Informational              0\n",
       "Informational_Duration     0\n",
       "ProductRelated             0\n",
       "ProductRelated_Duration    0\n",
       "BounceRates                0\n",
       "ExitRates                  0\n",
       "PageValues                 0\n",
       "SpecialDay                 0\n",
       "Month                      0\n",
       "OperatingSystems           0\n",
       "Browser                    0\n",
       "Region                     0\n",
       "TrafficType                0\n",
       "VisitorType                0\n",
       "Weekend                    0\n",
       "Revenue                    0\n",
       "dtype: int64"
      ]
     },
     "execution_count": 13,
     "metadata": {},
     "output_type": "execute_result"
    }
   ],
   "source": [
    "data.isna().sum()"
   ]
  },
  {
   "cell_type": "markdown",
   "id": "eebf846d",
   "metadata": {},
   "source": [
    "We have **no NA or missing values** in this dataset."
   ]
  },
  {
   "cell_type": "markdown",
   "id": "6399d489",
   "metadata": {},
   "source": [
    "###### Handling Outliers"
   ]
  },
  {
   "cell_type": "markdown",
   "id": "9759580f",
   "metadata": {},
   "source": [
    "Outliers can be handled by using the following formulas.\n",
    "- IQR = Q3 – Q1\n",
    "- Q3 = Third quartile (75%)\n",
    "- Q1 = First quartile (25%)\n",
    "- upperbound = Q3 + (1.5 * IQR)\n",
    "- lowerbound = Q1 - (1.5 * IQR)"
   ]
  },
  {
   "cell_type": "markdown",
   "id": "e4248689",
   "metadata": {},
   "source": [
    "###### Checking for outliers in column ExitRates"
   ]
  },
  {
   "cell_type": "code",
   "execution_count": 14,
   "id": "8355886b",
   "metadata": {},
   "outputs": [
    {
     "data": {
      "text/plain": [
       "(12330, 18)"
      ]
     },
     "execution_count": 14,
     "metadata": {},
     "output_type": "execute_result"
    }
   ],
   "source": [
    "data.shape"
   ]
  },
  {
   "cell_type": "code",
   "execution_count": 15,
   "id": "f796409d",
   "metadata": {},
   "outputs": [
    {
     "data": {
      "text/plain": [
       "count    12330.000000\n",
       "mean         0.043073\n",
       "std          0.048597\n",
       "min          0.000000\n",
       "25%          0.014286\n",
       "50%          0.025156\n",
       "75%          0.050000\n",
       "max          0.200000\n",
       "Name: ExitRates, dtype: float64"
      ]
     },
     "execution_count": 15,
     "metadata": {},
     "output_type": "execute_result"
    }
   ],
   "source": [
    "data['ExitRates'].describe()"
   ]
  },
  {
   "cell_type": "code",
   "execution_count": 16,
   "id": "6c1b6ff8",
   "metadata": {},
   "outputs": [
    {
     "data": {
      "image/png": "[encoded data removed]",
      "text/plain": [
       "<Figure size 432x288 with 1 Axes>"
      ]
     },
     "metadata": {
      "needs_background": "light"
     },
     "output_type": "display_data"
    }
   ],
   "source": [
    "# Before handling outliers\n",
    "data['ExitRates'].plot(kind='box')\n",
    "plt.title(\"Boxplot for ExitRates - Before outlier removal\")\n",
    "plt.show()"
   ]
  },
  {
   "cell_type": "markdown",
   "id": "2408af1e",
   "metadata": {},
   "source": [
    "From the above boxplot, we can clearly see the presence of outliers in the data for ExitRates. We need to remove them before we complete the pre-processing step."
   ]
  },
  {
   "cell_type": "code",
   "execution_count": 17,
   "id": "b08ee9a0",
   "metadata": {},
   "outputs": [],
   "source": [
    "# Handling and removing outliers\n",
    "Q1=np.percentile(data['ExitRates'], 25, interpolation = 'midpoint')\n",
    "Q3=np.percentile(data['ExitRates'], 75, interpolation = 'midpoint')\n",
    "\n",
    "IQR=Q3-Q1\n",
    "\n",
    "upperbound=Q3+(1.5*IQR)\n",
    "lowerbound=Q1-(1.5*IQR)\n",
    "\n",
    "data = data[((data[\"ExitRates\"] < upperbound) & (data[\"ExitRates\"] > lowerbound))]"
   ]
  },
  {
   "cell_type": "code",
   "execution_count": 22,
   "id": "9e599bf8",
   "metadata": {},
   "outputs": [
    {
     "data": {
      "image/png": "[encoded data removed]",
      "text/plain": [
       "<Figure size 432x288 with 1 Axes>"
      ]
     },
     "metadata": {
      "needs_background": "light"
     },
     "output_type": "display_data"
    }
   ],
   "source": [
    "# After handling outliers\n",
    "data['ExitRates'].plot(kind='box')\n",
    "plt.title(\"Boxplot for ExitRates - After outlier removal\")\n",
    "plt.show()"
   ]
  },
  {
   "cell_type": "markdown",
   "id": "ac2a215e",
   "metadata": {},
   "source": [
    "###### Checking outliers for columns Administrative_Duration, Informational_Duration, ProductRelated_Duration"
   ]
  },
  {
   "cell_type": "code",
   "execution_count": 23,
   "id": "f10f26e0",
   "metadata": {},
   "outputs": [
    {
     "data": {
      "image/png": "[encoded data removed]",
      "text/plain": [
       "<Figure size 1080x720 with 3 Axes>"
      ]
     },
     "metadata": {
      "needs_background": "light"
     },
     "output_type": "display_data"
    }
   ],
   "source": [
    "# Before handling outliers\n",
    "fig, (ax1, ax2, ax3) = plt.subplots(1, 3, figsize=(15,10))\n",
    "\n",
    "ax1.boxplot(data[\"Administrative_Duration\"])\n",
    "ax1.set_title(\"Administrative_Duration\")\n",
    "\n",
    "ax2.boxplot(data[\"Informational_Duration\"])\n",
    "ax2.set_title(\"Informational_Duration\")\n",
    "\n",
    "ax3.boxplot(data[\"ProductRelated_Duration\"])\n",
    "ax3.set_title(\"ProductRelated_Duration\")\n",
    "\n",
    "plt.show()"
   ]
  },
  {
   "cell_type": "markdown",
   "id": "650df3c4",
   "metadata": {},
   "source": [
    "From the above boxplots, we can clearly see the presence of outliers in the data for all the columns. Hence, we proceed to remove them."
   ]
  },
  {
   "cell_type": "code",
   "execution_count": 24,
   "id": "059ff00d",
   "metadata": {},
   "outputs": [],
   "source": [
    "# Handling and removing outliers\n",
    "srtAdminDur = np.sort(data['Administrative_Duration'])\n",
    "Q1, Q3 = np.percentile(srtAdminDur, [25,75])\n",
    "IQR = Q3 - Q1\n",
    "upperAdminDur = Q3 + (1.5*IQR)\n",
    "lowerAdminDur = Q1 - (1.5*IQR)\n",
    "\n",
    "srtInfDur = np.sort(data['Informational_Duration'])\n",
    "Q1, Q3 = np.percentile(srtInfDur, [25,75])\n",
    "IQR = Q3 - Q1\n",
    "upperInfoDur = Q3 + (1.5*IQR)\n",
    "lowerInfoDur = Q1 - (1.5*IQR)\n",
    "\n",
    "srtProdDur = np.sort(data['ProductRelated_Duration'])\n",
    "Q1, Q3 = np.percentile(srtProdDur, [25,75])\n",
    "IQR = Q3 - Q1\n",
    "upperProdDur = Q3 + (1.5*IQR)\n",
    "lowerProdDur = Q1 - (1.5*IQR)\n",
    "\n",
    "data = data[((data[\"Administrative_Duration\"] < upperAdminDur) & (data[\"Administrative_Duration\"] > lowerAdminDur)) | \n",
    "            ((data[\"Informational_Duration\"] < upperInfoDur) & (data[\"Informational_Duration\"] > lowerInfoDur)) | \n",
    "            ((data[\"ProductRelated_Duration\"] < upperProdDur) & (data[\"ProductRelated_Duration\"] > lowerProdDur))]"
   ]
  },
  {
   "cell_type": "code",
   "execution_count": 25,
   "id": "562aa07e",
   "metadata": {},
   "outputs": [
    {
     "data": {
      "image/png": "[encoded data removed]",
      "text/plain": [
       "<Figure size 1080x720 with 3 Axes>"
      ]
     },
     "metadata": {
      "needs_background": "light"
     },
     "output_type": "display_data"
    }
   ],
   "source": [
    "# After handling outliers\n",
    "fig, (ax1, ax2, ax3) = plt.subplots(1, 3, figsize=(15,10))\n",
    "\n",
    "ax1.boxplot(data[\"Administrative_Duration\"])\n",
    "ax1.set_title(\"Administrative_Duration\")\n",
    "\n",
    "ax2.boxplot(data[\"Informational_Duration\"])\n",
    "ax2.set_title(\"Informational_Duration\")\n",
    "\n",
    "ax3.boxplot(data[\"ProductRelated_Duration\"])\n",
    "ax3.set_title(\"ProductRelated_Duration\")\n",
    "\n",
    "plt.show()"
   ]
  },
  {
   "cell_type": "markdown",
   "id": "7d42453c",
   "metadata": {},
   "source": [
    "###### Checking outliers for column BounceRates"
   ]
  },
  {
   "cell_type": "code",
   "execution_count": 27,
   "id": "b862b228",
   "metadata": {},
   "outputs": [
    {
     "data": {
      "text/plain": [
       "count    11013.000000\n",
       "mean         0.008721\n",
       "std          0.014595\n",
       "min          0.000000\n",
       "25%          0.000000\n",
       "50%          0.000260\n",
       "75%          0.012121\n",
       "max          0.161905\n",
       "Name: BounceRates, dtype: float64"
      ]
     },
     "execution_count": 27,
     "metadata": {},
     "output_type": "execute_result"
    }
   ],
   "source": [
    "data['BounceRates'].describe()"
   ]
  },
  {
   "cell_type": "code",
   "execution_count": 28,
   "id": "166bb2e9",
   "metadata": {},
   "outputs": [
    {
     "data": {
      "image/png": "[encoded data removed]",
      "text/plain": [
       "<Figure size 432x288 with 1 Axes>"
      ]
     },
     "metadata": {
      "needs_background": "light"
     },
     "output_type": "display_data"
    }
   ],
   "source": [
    "# Before handling outliers\n",
    "data['BounceRates'].plot(kind='box')\n",
    "plt.title(\"Boxplot for BounceRates - Before outlier removal\")\n",
    "plt.show()"
   ]
  },
  {
   "cell_type": "markdown",
   "id": "c4f2093b",
   "metadata": {},
   "source": [
    "From the above boxplot, we can clearly see the presence of outliers in the data for BounceRates. We need to remove them before we complete the pre-processing step."
   ]
  },
  {
   "cell_type": "code",
   "execution_count": 29,
   "id": "a71f3f3d",
   "metadata": {},
   "outputs": [],
   "source": [
    "# Handling and removing outliers\n",
    "Q1=np.percentile(data['BounceRates'], 25, interpolation = 'midpoint')\n",
    "Q3=np.percentile(data['BounceRates'], 75, interpolation = 'midpoint')\n",
    "\n",
    "IQR=Q3-Q1\n",
    "\n",
    "upperbound=Q3+(1.5*IQR)\n",
    "lowerbound=Q1-(1.5*IQR)\n",
    "\n",
    "data = data[((data[\"BounceRates\"] < upperbound) & (data[\"BounceRates\"] > lowerbound))]"
   ]
  },
  {
   "cell_type": "code",
   "execution_count": 30,
   "id": "68e4469f",
   "metadata": {},
   "outputs": [
    {
     "data": {
      "text/plain": [
       "(10087, 18)"
      ]
     },
     "execution_count": 30,
     "metadata": {},
     "output_type": "execute_result"
    }
   ],
   "source": [
    "data.shape"
   ]
  },
  {
   "cell_type": "code",
   "execution_count": 31,
   "id": "b7b7fa42",
   "metadata": {},
   "outputs": [
    {
     "data": {
      "image/png": "[encoded data removed]",
      "text/plain": [
       "<Figure size 432x288 with 1 Axes>"
      ]
     },
     "metadata": {
      "needs_background": "light"
     },
     "output_type": "display_data"
    }
   ],
   "source": [
    "# After handling outliers\n",
    "data['BounceRates'].plot(kind='box')\n",
    "plt.title(\"Boxplot for BounceRates - After outlier removal\")\n",
    "plt.show()"
   ]
  },
  {
   "cell_type": "code",
   "execution_count": 32,
   "id": "a5fb9ed1",
   "metadata": {},
   "outputs": [
    {
     "data": {
      "text/html": [
       "<div>\n",
       "<style scoped>\n",
       "    .dataframe tbody tr th:only-of-type {\n",
       "        vertical-align: middle;\n",
       "    }\n",
       "\n",
       "    .dataframe tbody tr th {\n",
       "        vertical-align: top;\n",
       "    }\n",
       "\n",
       "    .dataframe thead th {\n",
       "        text-align: right;\n",
       "    }\n",
       "</style>\n",
       "<table border=\"1\" class=\"dataframe\">\n",
       "  <thead>\n",
       "    <tr style=\"text-align: right;\">\n",
       "      <th></th>\n",
       "      <th>Administrative</th>\n",
       "      <th>Administrative_Duration</th>\n",
       "      <th>Informational</th>\n",
       "      <th>Informational_Duration</th>\n",
       "      <th>ProductRelated</th>\n",
       "      <th>ProductRelated_Duration</th>\n",
       "      <th>BounceRates</th>\n",
       "      <th>ExitRates</th>\n",
       "      <th>PageValues</th>\n",
       "      <th>SpecialDay</th>\n",
       "      <th>Month</th>\n",
       "      <th>OperatingSystems</th>\n",
       "      <th>Browser</th>\n",
       "      <th>Region</th>\n",
       "      <th>TrafficType</th>\n",
       "      <th>VisitorType</th>\n",
       "      <th>Weekend</th>\n",
       "      <th>Revenue</th>\n",
       "    </tr>\n",
       "  </thead>\n",
       "  <tbody>\n",
       "    <tr>\n",
       "      <th>1</th>\n",
       "      <td>0</td>\n",
       "      <td>0.0</td>\n",
       "      <td>0</td>\n",
       "      <td>0.0</td>\n",
       "      <td>2</td>\n",
       "      <td>64.000000</td>\n",
       "      <td>0.000000</td>\n",
       "      <td>0.100000</td>\n",
       "      <td>0.0</td>\n",
       "      <td>0.0</td>\n",
       "      <td>Feb</td>\n",
       "      <td>2</td>\n",
       "      <td>2</td>\n",
       "      <td>1</td>\n",
       "      <td>2</td>\n",
       "      <td>Returning_Visitor</td>\n",
       "      <td>False</td>\n",
       "      <td>False</td>\n",
       "    </tr>\n",
       "    <tr>\n",
       "      <th>4</th>\n",
       "      <td>0</td>\n",
       "      <td>0.0</td>\n",
       "      <td>0</td>\n",
       "      <td>0.0</td>\n",
       "      <td>10</td>\n",
       "      <td>627.500000</td>\n",
       "      <td>0.020000</td>\n",
       "      <td>0.050000</td>\n",
       "      <td>0.0</td>\n",
       "      <td>0.0</td>\n",
       "      <td>Feb</td>\n",
       "      <td>3</td>\n",
       "      <td>3</td>\n",
       "      <td>1</td>\n",
       "      <td>4</td>\n",
       "      <td>Returning_Visitor</td>\n",
       "      <td>True</td>\n",
       "      <td>False</td>\n",
       "    </tr>\n",
       "    <tr>\n",
       "      <th>5</th>\n",
       "      <td>0</td>\n",
       "      <td>0.0</td>\n",
       "      <td>0</td>\n",
       "      <td>0.0</td>\n",
       "      <td>19</td>\n",
       "      <td>154.216667</td>\n",
       "      <td>0.015789</td>\n",
       "      <td>0.024561</td>\n",
       "      <td>0.0</td>\n",
       "      <td>0.0</td>\n",
       "      <td>Feb</td>\n",
       "      <td>2</td>\n",
       "      <td>2</td>\n",
       "      <td>1</td>\n",
       "      <td>3</td>\n",
       "      <td>Returning_Visitor</td>\n",
       "      <td>False</td>\n",
       "      <td>False</td>\n",
       "    </tr>\n",
       "    <tr>\n",
       "      <th>8</th>\n",
       "      <td>0</td>\n",
       "      <td>0.0</td>\n",
       "      <td>0</td>\n",
       "      <td>0.0</td>\n",
       "      <td>2</td>\n",
       "      <td>37.000000</td>\n",
       "      <td>0.000000</td>\n",
       "      <td>0.100000</td>\n",
       "      <td>0.0</td>\n",
       "      <td>0.8</td>\n",
       "      <td>Feb</td>\n",
       "      <td>2</td>\n",
       "      <td>2</td>\n",
       "      <td>2</td>\n",
       "      <td>3</td>\n",
       "      <td>Returning_Visitor</td>\n",
       "      <td>False</td>\n",
       "      <td>False</td>\n",
       "    </tr>\n",
       "    <tr>\n",
       "      <th>9</th>\n",
       "      <td>0</td>\n",
       "      <td>0.0</td>\n",
       "      <td>0</td>\n",
       "      <td>0.0</td>\n",
       "      <td>3</td>\n",
       "      <td>738.000000</td>\n",
       "      <td>0.000000</td>\n",
       "      <td>0.022222</td>\n",
       "      <td>0.0</td>\n",
       "      <td>0.4</td>\n",
       "      <td>Feb</td>\n",
       "      <td>2</td>\n",
       "      <td>4</td>\n",
       "      <td>1</td>\n",
       "      <td>2</td>\n",
       "      <td>Returning_Visitor</td>\n",
       "      <td>False</td>\n",
       "      <td>False</td>\n",
       "    </tr>\n",
       "  </tbody>\n",
       "</table>\n",
       "</div>"
      ],
      "text/plain": [
       "   Administrative  Administrative_Duration  Informational  \\\n",
       "1               0                      0.0              0   \n",
       "4               0                      0.0              0   \n",
       "5               0                      0.0              0   \n",
       "8               0                      0.0              0   \n",
       "9               0                      0.0              0   \n",
       "\n",
       "   Informational_Duration  ProductRelated  ProductRelated_Duration  \\\n",
       "1                     0.0               2                64.000000   \n",
       "4                     0.0              10               627.500000   \n",
       "5                     0.0              19               154.216667   \n",
       "8                     0.0               2                37.000000   \n",
       "9                     0.0               3               738.000000   \n",
       "\n",
       "   BounceRates  ExitRates  PageValues  SpecialDay Month  OperatingSystems  \\\n",
       "1     0.000000   0.100000         0.0         0.0   Feb                 2   \n",
       "4     0.020000   0.050000         0.0         0.0   Feb                 3   \n",
       "5     0.015789   0.024561         0.0         0.0   Feb                 2   \n",
       "8     0.000000   0.100000         0.0         0.8   Feb                 2   \n",
       "9     0.000000   0.022222         0.0         0.4   Feb                 2   \n",
       "\n",
       "   Browser  Region  TrafficType        VisitorType  Weekend  Revenue  \n",
       "1        2       1            2  Returning_Visitor    False    False  \n",
       "4        3       1            4  Returning_Visitor     True    False  \n",
       "5        2       1            3  Returning_Visitor    False    False  \n",
       "8        2       2            3  Returning_Visitor    False    False  \n",
       "9        4       1            2  Returning_Visitor    False    False  "
      ]
     },
     "execution_count": 32,
     "metadata": {},
     "output_type": "execute_result"
    }
   ],
   "source": [
    "data.head()"
   ]
  },
  {
   "cell_type": "code",
   "execution_count": 33,
   "id": "377a308e",
   "metadata": {},
   "outputs": [],
   "source": [
    "# Reseting the index back as normal\n",
    "data.reset_index(drop=True, inplace=True)"
   ]
  },
  {
   "cell_type": "code",
   "execution_count": 34,
   "id": "4b22debe",
   "metadata": {},
   "outputs": [
    {
     "data": {
      "text/html": [
       "<div>\n",
       "<style scoped>\n",
       "    .dataframe tbody tr th:only-of-type {\n",
       "        vertical-align: middle;\n",
       "    }\n",
       "\n",
       "    .dataframe tbody tr th {\n",
       "        vertical-align: top;\n",
       "    }\n",
       "\n",
       "    .dataframe thead th {\n",
       "        text-align: right;\n",
       "    }\n",
       "</style>\n",
       "<table border=\"1\" class=\"dataframe\">\n",
       "  <thead>\n",
       "    <tr style=\"text-align: right;\">\n",
       "      <th></th>\n",
       "      <th>Administrative</th>\n",
       "      <th>Administrative_Duration</th>\n",
       "      <th>Informational</th>\n",
       "      <th>Informational_Duration</th>\n",
       "      <th>ProductRelated</th>\n",
       "      <th>ProductRelated_Duration</th>\n",
       "      <th>BounceRates</th>\n",
       "      <th>ExitRates</th>\n",
       "      <th>PageValues</th>\n",
       "      <th>SpecialDay</th>\n",
       "      <th>Month</th>\n",
       "      <th>OperatingSystems</th>\n",
       "      <th>Browser</th>\n",
       "      <th>Region</th>\n",
       "      <th>TrafficType</th>\n",
       "      <th>VisitorType</th>\n",
       "      <th>Weekend</th>\n",
       "      <th>Revenue</th>\n",
       "    </tr>\n",
       "  </thead>\n",
       "  <tbody>\n",
       "    <tr>\n",
       "      <th>0</th>\n",
       "      <td>0</td>\n",
       "      <td>0.0</td>\n",
       "      <td>0</td>\n",
       "      <td>0.0</td>\n",
       "      <td>2</td>\n",
       "      <td>64.000000</td>\n",
       "      <td>0.000000</td>\n",
       "      <td>0.100000</td>\n",
       "      <td>0.0</td>\n",
       "      <td>0.0</td>\n",
       "      <td>Feb</td>\n",
       "      <td>2</td>\n",
       "      <td>2</td>\n",
       "      <td>1</td>\n",
       "      <td>2</td>\n",
       "      <td>Returning_Visitor</td>\n",
       "      <td>False</td>\n",
       "      <td>False</td>\n",
       "    </tr>\n",
       "    <tr>\n",
       "      <th>1</th>\n",
       "      <td>0</td>\n",
       "      <td>0.0</td>\n",
       "      <td>0</td>\n",
       "      <td>0.0</td>\n",
       "      <td>10</td>\n",
       "      <td>627.500000</td>\n",
       "      <td>0.020000</td>\n",
       "      <td>0.050000</td>\n",
       "      <td>0.0</td>\n",
       "      <td>0.0</td>\n",
       "      <td>Feb</td>\n",
       "      <td>3</td>\n",
       "      <td>3</td>\n",
       "      <td>1</td>\n",
       "      <td>4</td>\n",
       "      <td>Returning_Visitor</td>\n",
       "      <td>True</td>\n",
       "      <td>False</td>\n",
       "    </tr>\n",
       "    <tr>\n",
       "      <th>2</th>\n",
       "      <td>0</td>\n",
       "      <td>0.0</td>\n",
       "      <td>0</td>\n",
       "      <td>0.0</td>\n",
       "      <td>19</td>\n",
       "      <td>154.216667</td>\n",
       "      <td>0.015789</td>\n",
       "      <td>0.024561</td>\n",
       "      <td>0.0</td>\n",
       "      <td>0.0</td>\n",
       "      <td>Feb</td>\n",
       "      <td>2</td>\n",
       "      <td>2</td>\n",
       "      <td>1</td>\n",
       "      <td>3</td>\n",
       "      <td>Returning_Visitor</td>\n",
       "      <td>False</td>\n",
       "      <td>False</td>\n",
       "    </tr>\n",
       "    <tr>\n",
       "      <th>3</th>\n",
       "      <td>0</td>\n",
       "      <td>0.0</td>\n",
       "      <td>0</td>\n",
       "      <td>0.0</td>\n",
       "      <td>2</td>\n",
       "      <td>37.000000</td>\n",
       "      <td>0.000000</td>\n",
       "      <td>0.100000</td>\n",
       "      <td>0.0</td>\n",
       "      <td>0.8</td>\n",
       "      <td>Feb</td>\n",
       "      <td>2</td>\n",
       "      <td>2</td>\n",
       "      <td>2</td>\n",
       "      <td>3</td>\n",
       "      <td>Returning_Visitor</td>\n",
       "      <td>False</td>\n",
       "      <td>False</td>\n",
       "    </tr>\n",
       "    <tr>\n",
       "      <th>4</th>\n",
       "      <td>0</td>\n",
       "      <td>0.0</td>\n",
       "      <td>0</td>\n",
       "      <td>0.0</td>\n",
       "      <td>3</td>\n",
       "      <td>738.000000</td>\n",
       "      <td>0.000000</td>\n",
       "      <td>0.022222</td>\n",
       "      <td>0.0</td>\n",
       "      <td>0.4</td>\n",
       "      <td>Feb</td>\n",
       "      <td>2</td>\n",
       "      <td>4</td>\n",
       "      <td>1</td>\n",
       "      <td>2</td>\n",
       "      <td>Returning_Visitor</td>\n",
       "      <td>False</td>\n",
       "      <td>False</td>\n",
       "    </tr>\n",
       "  </tbody>\n",
       "</table>\n",
       "</div>"
      ],
      "text/plain": [
       "   Administrative  Administrative_Duration  Informational  \\\n",
       "0               0                      0.0              0   \n",
       "1               0                      0.0              0   \n",
       "2               0                      0.0              0   \n",
       "3               0                      0.0              0   \n",
       "4               0                      0.0              0   \n",
       "\n",
       "   Informational_Duration  ProductRelated  ProductRelated_Duration  \\\n",
       "0                     0.0               2                64.000000   \n",
       "1                     0.0              10               627.500000   \n",
       "2                     0.0              19               154.216667   \n",
       "3                     0.0               2                37.000000   \n",
       "4                     0.0               3               738.000000   \n",
       "\n",
       "   BounceRates  ExitRates  PageValues  SpecialDay Month  OperatingSystems  \\\n",
       "0     0.000000   0.100000         0.0         0.0   Feb                 2   \n",
       "1     0.020000   0.050000         0.0         0.0   Feb                 3   \n",
       "2     0.015789   0.024561         0.0         0.0   Feb                 2   \n",
       "3     0.000000   0.100000         0.0         0.8   Feb                 2   \n",
       "4     0.000000   0.022222         0.0         0.4   Feb                 2   \n",
       "\n",
       "   Browser  Region  TrafficType        VisitorType  Weekend  Revenue  \n",
       "0        2       1            2  Returning_Visitor    False    False  \n",
       "1        3       1            4  Returning_Visitor     True    False  \n",
       "2        2       1            3  Returning_Visitor    False    False  \n",
       "3        2       2            3  Returning_Visitor    False    False  \n",
       "4        4       1            2  Returning_Visitor    False    False  "
      ]
     },
     "execution_count": 34,
     "metadata": {},
     "output_type": "execute_result"
    }
   ],
   "source": [
    "data.head()"
   ]
  },
  {
   "cell_type": "markdown",
   "id": "313f704b",
   "metadata": {},
   "source": [
    "### Task 2: Data Exploration"
   ]
  },
  {
   "cell_type": "markdown",
   "id": "bed87908",
   "metadata": {},
   "source": [
    "#### Task 2.1"
   ]
  },
  {
   "cell_type": "markdown",
   "id": "c6d5c6bf",
   "metadata": {},
   "source": [
    "###### Descriptive statistics"
   ]
  },
  {
   "cell_type": "code",
   "execution_count": 35,
   "id": "096e5159",
   "metadata": {},
   "outputs": [
    {
     "data": {
      "text/html": [
       "<div>\n",
       "<style scoped>\n",
       "    .dataframe tbody tr th:only-of-type {\n",
       "        vertical-align: middle;\n",
       "    }\n",
       "\n",
       "    .dataframe tbody tr th {\n",
       "        vertical-align: top;\n",
       "    }\n",
       "\n",
       "    .dataframe thead th {\n",
       "        text-align: right;\n",
       "    }\n",
       "</style>\n",
       "<table border=\"1\" class=\"dataframe\">\n",
       "  <thead>\n",
       "    <tr style=\"text-align: right;\">\n",
       "      <th></th>\n",
       "      <th>Administrative</th>\n",
       "      <th>Administrative_Duration</th>\n",
       "      <th>Informational</th>\n",
       "      <th>Informational_Duration</th>\n",
       "      <th>ProductRelated</th>\n",
       "      <th>ProductRelated_Duration</th>\n",
       "      <th>BounceRates</th>\n",
       "      <th>ExitRates</th>\n",
       "      <th>PageValues</th>\n",
       "      <th>SpecialDay</th>\n",
       "      <th>OperatingSystems</th>\n",
       "      <th>Browser</th>\n",
       "      <th>Region</th>\n",
       "      <th>TrafficType</th>\n",
       "    </tr>\n",
       "  </thead>\n",
       "  <tbody>\n",
       "    <tr>\n",
       "      <th>count</th>\n",
       "      <td>10087.000000</td>\n",
       "      <td>10087.000000</td>\n",
       "      <td>10087.000000</td>\n",
       "      <td>10087.000000</td>\n",
       "      <td>10087.000000</td>\n",
       "      <td>10087.000000</td>\n",
       "      <td>10087.000000</td>\n",
       "      <td>10087.000000</td>\n",
       "      <td>10087.000000</td>\n",
       "      <td>10087.000000</td>\n",
       "      <td>10087.000000</td>\n",
       "      <td>10087.000000</td>\n",
       "      <td>10087.000000</td>\n",
       "      <td>10087.000000</td>\n",
       "    </tr>\n",
       "    <tr>\n",
       "      <th>mean</th>\n",
       "      <td>2.515614</td>\n",
       "      <td>81.836815</td>\n",
       "      <td>0.529692</td>\n",
       "      <td>35.160998</td>\n",
       "      <td>33.457420</td>\n",
       "      <td>1232.735530</td>\n",
       "      <td>0.005140</td>\n",
       "      <td>0.026484</td>\n",
       "      <td>6.908330</td>\n",
       "      <td>0.051512</td>\n",
       "      <td>2.110241</td>\n",
       "      <td>2.378011</td>\n",
       "      <td>3.176861</td>\n",
       "      <td>3.898681</td>\n",
       "    </tr>\n",
       "    <tr>\n",
       "      <th>std</th>\n",
       "      <td>3.252377</td>\n",
       "      <td>158.464199</td>\n",
       "      <td>1.252436</td>\n",
       "      <td>135.910007</td>\n",
       "      <td>40.939271</td>\n",
       "      <td>1600.393041</td>\n",
       "      <td>0.007609</td>\n",
       "      <td>0.020062</td>\n",
       "      <td>20.097458</td>\n",
       "      <td>0.184065</td>\n",
       "      <td>0.900977</td>\n",
       "      <td>1.731812</td>\n",
       "      <td>2.422269</td>\n",
       "      <td>3.817943</td>\n",
       "    </tr>\n",
       "    <tr>\n",
       "      <th>min</th>\n",
       "      <td>0.000000</td>\n",
       "      <td>0.000000</td>\n",
       "      <td>0.000000</td>\n",
       "      <td>0.000000</td>\n",
       "      <td>0.000000</td>\n",
       "      <td>0.000000</td>\n",
       "      <td>0.000000</td>\n",
       "      <td>0.000000</td>\n",
       "      <td>0.000000</td>\n",
       "      <td>0.000000</td>\n",
       "      <td>1.000000</td>\n",
       "      <td>1.000000</td>\n",
       "      <td>1.000000</td>\n",
       "      <td>1.000000</td>\n",
       "    </tr>\n",
       "    <tr>\n",
       "      <th>25%</th>\n",
       "      <td>0.000000</td>\n",
       "      <td>0.000000</td>\n",
       "      <td>0.000000</td>\n",
       "      <td>0.000000</td>\n",
       "      <td>10.000000</td>\n",
       "      <td>277.325000</td>\n",
       "      <td>0.000000</td>\n",
       "      <td>0.012500</td>\n",
       "      <td>0.000000</td>\n",
       "      <td>0.000000</td>\n",
       "      <td>2.000000</td>\n",
       "      <td>2.000000</td>\n",
       "      <td>1.000000</td>\n",
       "      <td>2.000000</td>\n",
       "    </tr>\n",
       "    <tr>\n",
       "      <th>50%</th>\n",
       "      <td>1.000000</td>\n",
       "      <td>23.000000</td>\n",
       "      <td>0.000000</td>\n",
       "      <td>0.000000</td>\n",
       "      <td>21.000000</td>\n",
       "      <td>710.666667</td>\n",
       "      <td>0.000000</td>\n",
       "      <td>0.021667</td>\n",
       "      <td>0.000000</td>\n",
       "      <td>0.000000</td>\n",
       "      <td>2.000000</td>\n",
       "      <td>2.000000</td>\n",
       "      <td>3.000000</td>\n",
       "      <td>2.000000</td>\n",
       "    </tr>\n",
       "    <tr>\n",
       "      <th>75%</th>\n",
       "      <td>4.000000</td>\n",
       "      <td>102.500000</td>\n",
       "      <td>0.000000</td>\n",
       "      <td>0.000000</td>\n",
       "      <td>41.000000</td>\n",
       "      <td>1576.983333</td>\n",
       "      <td>0.008371</td>\n",
       "      <td>0.034564</td>\n",
       "      <td>0.000000</td>\n",
       "      <td>0.000000</td>\n",
       "      <td>2.000000</td>\n",
       "      <td>2.000000</td>\n",
       "      <td>4.000000</td>\n",
       "      <td>4.000000</td>\n",
       "    </tr>\n",
       "    <tr>\n",
       "      <th>max</th>\n",
       "      <td>24.000000</td>\n",
       "      <td>1951.279141</td>\n",
       "      <td>16.000000</td>\n",
       "      <td>2252.033333</td>\n",
       "      <td>686.000000</td>\n",
       "      <td>23342.082050</td>\n",
       "      <td>0.030159</td>\n",
       "      <td>0.100000</td>\n",
       "      <td>361.763742</td>\n",
       "      <td>1.000000</td>\n",
       "      <td>8.000000</td>\n",
       "      <td>13.000000</td>\n",
       "      <td>9.000000</td>\n",
       "      <td>20.000000</td>\n",
       "    </tr>\n",
       "  </tbody>\n",
       "</table>\n",
       "</div>"
      ],
      "text/plain": [
       "       Administrative  Administrative_Duration  Informational  \\\n",
       "count    10087.000000             10087.000000   10087.000000   \n",
       "mean         2.515614                81.836815       0.529692   \n",
       "std          3.252377               158.464199       1.252436   \n",
       "min          0.000000                 0.000000       0.000000   \n",
       "25%          0.000000                 0.000000       0.000000   \n",
       "50%          1.000000                23.000000       0.000000   \n",
       "75%          4.000000               102.500000       0.000000   \n",
       "max         24.000000              1951.279141      16.000000   \n",
       "\n",
       "       Informational_Duration  ProductRelated  ProductRelated_Duration  \\\n",
       "count            10087.000000    10087.000000             10087.000000   \n",
       "mean                35.160998       33.457420              1232.735530   \n",
       "std                135.910007       40.939271              1600.393041   \n",
       "min                  0.000000        0.000000                 0.000000   \n",
       "25%                  0.000000       10.000000               277.325000   \n",
       "50%                  0.000000       21.000000               710.666667   \n",
       "75%                  0.000000       41.000000              1576.983333   \n",
       "max               2252.033333      686.000000             23342.082050   \n",
       "\n",
       "        BounceRates     ExitRates    PageValues    SpecialDay  \\\n",
       "count  10087.000000  10087.000000  10087.000000  10087.000000   \n",
       "mean       0.005140      0.026484      6.908330      0.051512   \n",
       "std        0.007609      0.020062     20.097458      0.184065   \n",
       "min        0.000000      0.000000      0.000000      0.000000   \n",
       "25%        0.000000      0.012500      0.000000      0.000000   \n",
       "50%        0.000000      0.021667      0.000000      0.000000   \n",
       "75%        0.008371      0.034564      0.000000      0.000000   \n",
       "max        0.030159      0.100000    361.763742      1.000000   \n",
       "\n",
       "       OperatingSystems       Browser        Region   TrafficType  \n",
       "count      10087.000000  10087.000000  10087.000000  10087.000000  \n",
       "mean           2.110241      2.378011      3.176861      3.898681  \n",
       "std            0.900977      1.731812      2.422269      3.817943  \n",
       "min            1.000000      1.000000      1.000000      1.000000  \n",
       "25%            2.000000      2.000000      1.000000      2.000000  \n",
       "50%            2.000000      2.000000      3.000000      2.000000  \n",
       "75%            2.000000      2.000000      4.000000      4.000000  \n",
       "max            8.000000     13.000000      9.000000     20.000000  "
      ]
     },
     "execution_count": 35,
     "metadata": {},
     "output_type": "execute_result"
    }
   ],
   "source": [
    "## Descriptive statistics of numerical features\n",
    "data.describe(include=['int64','float64'])"
   ]
  },
  {
   "cell_type": "code",
   "execution_count": 36,
   "id": "76d5a1b3",
   "metadata": {},
   "outputs": [
    {
     "data": {
      "text/html": [
       "<div>\n",
       "<style scoped>\n",
       "    .dataframe tbody tr th:only-of-type {\n",
       "        vertical-align: middle;\n",
       "    }\n",
       "\n",
       "    .dataframe tbody tr th {\n",
       "        vertical-align: top;\n",
       "    }\n",
       "\n",
       "    .dataframe thead th {\n",
       "        text-align: right;\n",
       "    }\n",
       "</style>\n",
       "<table border=\"1\" class=\"dataframe\">\n",
       "  <thead>\n",
       "    <tr style=\"text-align: right;\">\n",
       "      <th></th>\n",
       "      <th>Month</th>\n",
       "      <th>VisitorType</th>\n",
       "      <th>Weekend</th>\n",
       "      <th>Revenue</th>\n",
       "    </tr>\n",
       "  </thead>\n",
       "  <tbody>\n",
       "    <tr>\n",
       "      <th>count</th>\n",
       "      <td>10087</td>\n",
       "      <td>10087</td>\n",
       "      <td>10087</td>\n",
       "      <td>10087</td>\n",
       "    </tr>\n",
       "    <tr>\n",
       "      <th>unique</th>\n",
       "      <td>10</td>\n",
       "      <td>3</td>\n",
       "      <td>2</td>\n",
       "      <td>2</td>\n",
       "    </tr>\n",
       "    <tr>\n",
       "      <th>top</th>\n",
       "      <td>May</td>\n",
       "      <td>Returning_Visitor</td>\n",
       "      <td>False</td>\n",
       "      <td>False</td>\n",
       "    </tr>\n",
       "    <tr>\n",
       "      <th>freq</th>\n",
       "      <td>2609</td>\n",
       "      <td>8390</td>\n",
       "      <td>7642</td>\n",
       "      <td>8301</td>\n",
       "    </tr>\n",
       "  </tbody>\n",
       "</table>\n",
       "</div>"
      ],
      "text/plain": [
       "        Month        VisitorType Weekend Revenue\n",
       "count   10087              10087   10087   10087\n",
       "unique     10                  3       2       2\n",
       "top       May  Returning_Visitor   False   False\n",
       "freq     2609               8390    7642    8301"
      ]
     },
     "execution_count": 36,
     "metadata": {},
     "output_type": "execute_result"
    }
   ],
   "source": [
    "## Descriptive statistics of categorical features\n",
    "data.describe(include=['bool','object'])"
   ]
  },
  {
   "cell_type": "markdown",
   "id": "c83b0c4b",
   "metadata": {},
   "source": [
    "###### Visualisation"
   ]
  },
  {
   "cell_type": "code",
   "execution_count": 37,
   "id": "baeb5c77",
   "metadata": {},
   "outputs": [
    {
     "data": {
      "image/png": "[encoded data removed]",
      "text/plain": [
       "<Figure size 432x288 with 1 Axes>"
      ]
     },
     "metadata": {},
     "output_type": "display_data"
    }
   ],
   "source": [
    "# Plot 1\n",
    "# Pie chart - to show different categories\n",
    "# Plot to show number of customers who purchased vs customers who did not purchase\n",
    "data.groupby('Revenue').size().plot(kind='pie',\n",
    "                                    title='Plot to show number of customers who purchased vs customers who did not purchase', \n",
    "                                    ylabel='',autopct='%1.1f%%', textprops={'fontsize': 10})\n",
    "plt.legend(labels = ['Not Purchased', 'Purchased'])\n",
    "plt.axis('equal')\n",
    "plt.show()"
   ]
  },
  {
   "cell_type": "markdown",
   "id": "cc9f3406",
   "metadata": {},
   "source": [
    "From the above plot, we can see that majority of customers (82.3%) did not purchase (i.e.,) did not add any revenue to the company. Only 17.7% of the customers added the revenue to the company."
   ]
  },
  {
   "cell_type": "code",
   "execution_count": 38,
   "id": "8905ecf7",
   "metadata": {},
   "outputs": [
    {
     "data": {
      "image/png": "[encoded data removed]",
      "text/plain": [
       "<Figure size 432x288 with 1 Axes>"
      ]
     },
     "metadata": {},
     "output_type": "display_data"
    }
   ],
   "source": [
    "# Plot 2\n",
    "# Plot to show the type of customers\n",
    "data.groupby('VisitorType').size().plot(kind='pie',\n",
    "                                    title='Plot to show the type of customers', \n",
    "                                    ylabel='',autopct='%1.1f%%', textprops={'fontsize': 10}, \n",
    "                                    explode=[0.1,0.3,0.1], colors=['violet','black','green'])\n",
    "plt.legend(labels = ['New Visitor', 'Other','Returning Visitor'])\n",
    "plt.axis('equal')\n",
    "plt.show()"
   ]
  },
  {
   "cell_type": "markdown",
   "id": "dc951e05",
   "metadata": {},
   "source": [
    "From the above plot, we can see that nearly majority (83.2%) of customers are old customers and remaining are only the new or other type of customers."
   ]
  },
  {
   "cell_type": "code",
   "execution_count": 39,
   "id": "cb42f819",
   "metadata": {},
   "outputs": [
    {
     "data": {
      "image/png": "[encoded data removed]",
      "text/plain": [
       "<Figure size 432x288 with 1 Axes>"
      ]
     },
     "metadata": {},
     "output_type": "display_data"
    }
   ],
   "source": [
    "# Plot 3\n",
    "# Pie chart - to show different categories\n",
    "# Plot to show distribution of customers who purchased on weekends\n",
    "plt.pie(data.groupby('Weekend').size(), labels = ['Weekday', 'Weekend'], autopct='%1.1f%%', \n",
    "        textprops={'fontsize': 10}, colors=['c','g'])\n",
    "plt.title('Plot to show distribution of customers who purchased on weekends')\n",
    "plt.legend()\n",
    "plt.axis('equal')\n",
    "plt.show()"
   ]
  },
  {
   "cell_type": "markdown",
   "id": "797bdc63",
   "metadata": {},
   "source": [
    "From the above plot, we can see that percentage of customers visited the page on a weekends is less than the percentage of customers who visited the page on weekdays."
   ]
  },
  {
   "cell_type": "code",
   "execution_count": 40,
   "id": "2a6c6e8c",
   "metadata": {},
   "outputs": [
    {
     "data": {
      "image/png": "[encoded data removed]",
      "text/plain": [
       "<Figure size 432x288 with 1 Axes>"
      ]
     },
     "metadata": {},
     "output_type": "display_data"
    }
   ],
   "source": [
    "# Plot 4\n",
    "# Pie chart - to show different categories\n",
    "# Plot to show the region of the customers who surfed online\n",
    "data.groupby('Region').size().plot(kind='pie',\n",
    "                                    title='Plot to show the region of the customers who surfed online', \n",
    "                                    ylabel='',autopct='%1.1f%%', textprops={'fontsize': 10},\n",
    "                                    explode=[0.1, 0.1, 0.1, 0.1, 0.2, 0.1, 0.1, 0.1, 0.1])\n",
    "#plt.legend(labels = ['Not Purchased', 'Purchased'], loc='best')\n",
    "plt.axis('equal')\n",
    "plt.show()"
   ]
  },
  {
   "cell_type": "markdown",
   "id": "3d746fa5",
   "metadata": {},
   "source": [
    "From the above plot, we can see that most customers who surfed online are more from Region 1 (38.5%), followed by Region 3 (19.5%) and rest does not have that many online searches/shoppers."
   ]
  },
  {
   "cell_type": "code",
   "execution_count": 41,
   "id": "03a32d72",
   "metadata": {},
   "outputs": [
    {
     "data": {
      "image/png": "[encoded data removed]",
      "text/plain": [
       "<Figure size 432x288 with 1 Axes>"
      ]
     },
     "metadata": {
      "needs_background": "light"
     },
     "output_type": "display_data"
    }
   ],
   "source": [
    "# Plot 5\n",
    "# Plot to show the type of operating systems used by different customers\n",
    "# creating the countplot\n",
    "ax = sns.countplot(data['OperatingSystems'], palette = 'colorblind')\n",
    "for p in ax.patches:\n",
    "    ax.annotate('{}'.format(p.get_height()), (p.get_x()+0.1, p.get_height()))\n",
    "plt.xlabel(\"Type of OS\", fontsize = 12)\n",
    "plt.ylabel(\"Count\", fontsize = 12)\n",
    "plt.title(\"Plot to show the type of operating systems used by different customers\")\n",
    "plt.show()"
   ]
  },
  {
   "cell_type": "markdown",
   "id": "aca6ea66",
   "metadata": {},
   "source": [
    "From the above plot, we can see that customers use OS type '2' the most (5677), followed by type '1' (2062), type '3' (1823) and the rest."
   ]
  },
  {
   "cell_type": "code",
   "execution_count": 42,
   "id": "9676978c",
   "metadata": {},
   "outputs": [
    {
     "data": {
      "image/png": "[encoded data removed]",
      "text/plain": [
       "<Figure size 432x288 with 1 Axes>"
      ]
     },
     "metadata": {
      "needs_background": "light"
     },
     "output_type": "display_data"
    }
   ],
   "source": [
    "# Plot 6\n",
    "# Plot to show the months customers surfed online\n",
    "# creating the countplot\n",
    "ax = sns.countplot(x=data['Month'])\n",
    "for p in ax.patches:\n",
    "    ax.annotate('{}'.format(p.get_height()), (p.get_x()+0.1, p.get_height()))\n",
    "plt.xlabel(\"Months\", fontsize = 12)\n",
    "plt.ylabel(\"Count\", fontsize = 12)\n",
    "plt.title(\"Plot to show the months customers surfed online\")\n",
    "plt.show()"
   ]
  },
  {
   "cell_type": "markdown",
   "id": "91a612cd",
   "metadata": {},
   "source": [
    "From the above plot, we can see that most surfed month is May (2609), followed by November (2516), March (1611), December (1461), and rest of the months has not many customer searches."
   ]
  },
  {
   "cell_type": "code",
   "execution_count": 43,
   "id": "c625dcef",
   "metadata": {},
   "outputs": [
    {
     "data": {
      "image/png": "[encoded data removed]",
      "text/plain": [
       "<Figure size 432x288 with 1 Axes>"
      ]
     },
     "metadata": {
      "needs_background": "light"
     },
     "output_type": "display_data"
    }
   ],
   "source": [
    "# Plot 7\n",
    "# Plot to show number of browsers customers use to shop online\n",
    "# creating the countplot\n",
    "ax = sns.countplot(data['Browser'], palette = 'Dark2')\n",
    "for p in ax.patches:\n",
    "    ax.annotate('{}'.format(p.get_height()), (p.get_x()+0.1, p.get_height()))\n",
    "plt.xlabel(\"Browsers\", fontsize = 12)\n",
    "plt.ylabel(\"Count\", fontsize = 12)\n",
    "plt.title(\"Plot to show number of browsers customers use to shop online\")\n",
    "plt.show()"
   ]
  },
  {
   "cell_type": "markdown",
   "id": "d34abbb9",
   "metadata": {},
   "source": [
    "From the above plot, we can see that most customers who surfed online used Browser 2 (6500) the most, followed by Browser 1 (1977), Browser 4 (640) and rest does not have that many users."
   ]
  },
  {
   "cell_type": "code",
   "execution_count": 44,
   "id": "cd801349",
   "metadata": {},
   "outputs": [
    {
     "data": {
      "image/png": "[encoded data removed]",
      "text/plain": [
       "<Figure size 432x288 with 1 Axes>"
      ]
     },
     "metadata": {
      "needs_background": "light"
     },
     "output_type": "display_data"
    }
   ],
   "source": [
    "# Plot 8\n",
    "# Plot to show number of soruces with which the customers landed to the website to shop online\n",
    "# creating the countplot\n",
    "ax = sns.countplot(x=data['TrafficType'], palette='cool')\n",
    "for p in ax.patches:\n",
    "    ax.annotate('{}'.format(p.get_height()), (p.get_x()+0.1, p.get_height()))\n",
    "plt.xlabel(\"TrafficType\", fontsize = 12)\n",
    "plt.ylabel(\"Count\", fontsize = 12)\n",
    "plt.title(\"Plot to show number of soruces with which the customers landed to the website to shop online\")\n",
    "plt.show()"
   ]
  },
  {
   "cell_type": "markdown",
   "id": "887bec64",
   "metadata": {},
   "source": [
    "From the above plot, customers landed to the shopping site mostly through the source 2 (3633), followed by source 1 (1838), source 3 (1489), source 4 (915) and other sources are less compared to the former ones."
   ]
  },
  {
   "cell_type": "code",
   "execution_count": 45,
   "id": "03f71e1e",
   "metadata": {},
   "outputs": [
    {
     "data": {
      "image/png": "[encoded data removed]",
      "text/plain": [
       "<Figure size 432x288 with 1 Axes>"
      ]
     },
     "metadata": {
      "needs_background": "light"
     },
     "output_type": "display_data"
    }
   ],
   "source": [
    "# Plot 9\n",
    "# Plot to show the variations in Bounce Rates\n",
    "# creating the distplot\n",
    "sns.distplot(data['BounceRates'], color = 'brown')\n",
    "plt.title('Plot to show the variations in Bounce Rates')\n",
    "plt.xlabel('Bounce Rates', fontsize = 12)\n",
    "plt.ylabel('Count', fontsize = 12)\n",
    "plt.show()"
   ]
  },
  {
   "cell_type": "markdown",
   "id": "4ee44129",
   "metadata": {},
   "source": [
    "From the above plot, we can observe that the average bounce rate value of the pages visited by the visitor is at the max when value is 0.0 and decreases later."
   ]
  },
  {
   "cell_type": "code",
   "execution_count": 46,
   "id": "0075dc5f",
   "metadata": {},
   "outputs": [
    {
     "data": {
      "image/png": "[encoded data removed]",
      "text/plain": [
       "<Figure size 432x288 with 1 Axes>"
      ]
     },
     "metadata": {
      "needs_background": "light"
     },
     "output_type": "display_data"
    }
   ],
   "source": [
    "# Plot 10\n",
    "# Plot to show the variations in Exit Rates'\n",
    "# creating the distplot\n",
    "sns.distplot(data['ExitRates'], color = 'red')\n",
    "plt.title('Plot to show the variations in Exit Rates')\n",
    "plt.xlabel('Exit Rates', fontsize = 12)\n",
    "plt.ylabel('Count', fontsize = 12)\n",
    "plt.show()"
   ]
  },
  {
   "cell_type": "markdown",
   "id": "d54b4244",
   "metadata": {},
   "source": [
    "From the above plot, we can observe that the average exit rate value of the pages visited by the visitor is raises between 0.0 to 0.02 and decreases."
   ]
  },
  {
   "cell_type": "markdown",
   "id": "e3b2a521",
   "metadata": {},
   "source": [
    "#### Task 2.2"
   ]
  },
  {
   "cell_type": "markdown",
   "id": "2ce310cc",
   "metadata": {},
   "source": [
    "**Hypothesis 1: People prefer to shop more on weekends than on weekdays**"
   ]
  },
  {
   "cell_type": "code",
   "execution_count": 47,
   "id": "1f485d5e",
   "metadata": {},
   "outputs": [
    {
     "data": {
      "image/png": "[encoded data removed]",
      "text/plain": [
       "<Figure size 432x288 with 1 Axes>"
      ]
     },
     "metadata": {
      "needs_background": "light"
     },
     "output_type": "display_data"
    }
   ],
   "source": [
    "# Plot 1\n",
    "# Revenue vs Weekend\n",
    "sns.countplot(x = data['Weekend'], hue = data['Revenue'])\n",
    "plt.title('Revenue vs Weekend')\n",
    "plt.show()"
   ]
  },
  {
   "cell_type": "markdown",
   "id": "e197ae2a",
   "metadata": {},
   "source": [
    "From the above plot, we can see that number of customers who visited the shopping site pages are more on weekdays. Though majority of the visits did not end up buying, the count of customers shopping on weekdays is more when compared to customers shopping on weekends. This proves our hypothesis to be ***incorrect***."
   ]
  },
  {
   "cell_type": "markdown",
   "id": "14ce9c7e",
   "metadata": {},
   "source": [
    "**Hypothesis 2: Browser type plays a major role in customer's purchase**"
   ]
  },
  {
   "cell_type": "code",
   "execution_count": 48,
   "id": "0fb3a70e",
   "metadata": {},
   "outputs": [
    {
     "data": {
      "image/png": "[encoded data removed]",
      "text/plain": [
       "<Figure size 432x288 with 1 Axes>"
      ]
     },
     "metadata": {
      "needs_background": "light"
     },
     "output_type": "display_data"
    }
   ],
   "source": [
    "# Plot 2\n",
    "# Revenue vs Month\n",
    "sns.countplot(x = data['Month'], hue = data['Revenue'], palette='autumn')\n",
    "plt.title('Revenue vs Month')\n",
    "plt.show()"
   ]
  },
  {
   "cell_type": "markdown",
   "id": "baa7908b",
   "metadata": {},
   "source": [
    "From the above plot, it is observed that month of November is where the count of 'Purchase' is high when compared to other months. And the month of May has large number of page visits without any purchase by the customers. This shows our hypothesis to be ***correct***."
   ]
  },
  {
   "cell_type": "markdown",
   "id": "180c7853",
   "metadata": {},
   "source": [
    "**Hypothesis 3: Old customers prefer to shop more than others**"
   ]
  },
  {
   "cell_type": "code",
   "execution_count": 49,
   "id": "fb0a6b3c",
   "metadata": {},
   "outputs": [
    {
     "data": {
      "image/png": "[encoded data removed]",
      "text/plain": [
       "<Figure size 432x288 with 1 Axes>"
      ]
     },
     "metadata": {
      "needs_background": "light"
     },
     "output_type": "display_data"
    }
   ],
   "source": [
    "# Plot 3\n",
    "# Revenue vs Vistor Type\n",
    "sns.countplot(x = data['VisitorType'], hue = data['Revenue'], palette='afmhot')\n",
    "plt.title('Revenue vs Visitor Type')\n",
    "plt.show()"
   ]
  },
  {
   "cell_type": "markdown",
   "id": "14e1aa43",
   "metadata": {},
   "source": [
    "From the above plot, we can observe that the count of 'Returning Visitor' is high when compared to any other type of visitors with respect to making a Purchase. This shows our hypothesis to be ***correct***. "
   ]
  },
  {
   "cell_type": "markdown",
   "id": "dbef8c8e",
   "metadata": {},
   "source": [
    "**Hypothesis 4: People's shopping increases as special days approach**"
   ]
  },
  {
   "cell_type": "code",
   "execution_count": 50,
   "id": "634f90c5",
   "metadata": {},
   "outputs": [
    {
     "data": {
      "image/png": "[encoded data removed]",
      "text/plain": [
       "<Figure size 432x288 with 1 Axes>"
      ]
     },
     "metadata": {
      "needs_background": "light"
     },
     "output_type": "display_data"
    }
   ],
   "source": [
    "# Plot 4\n",
    "# Revenue vs Special day\n",
    "sns.countplot(x = data['SpecialDay'], hue = data['Revenue'], palette='brg')\n",
    "plt.title('Revenue vs Special Day')\n",
    "plt.show()"
   ]
  },
  {
   "cell_type": "markdown",
   "id": "2feaf73c",
   "metadata": {},
   "source": [
    "From the above plot we can see that Special Day has no impact in visitors making a purchase. This shows our hypothesis to be ***incorrect***."
   ]
  },
  {
   "cell_type": "markdown",
   "id": "0872b777",
   "metadata": {},
   "source": [
    "**Hypothesis 5: People from specific regions do not shop online**"
   ]
  },
  {
   "cell_type": "code",
   "execution_count": 51,
   "id": "d9acccf3",
   "metadata": {},
   "outputs": [
    {
     "data": {
      "image/png": "[encoded data removed]",
      "text/plain": [
       "<Figure size 432x288 with 1 Axes>"
      ]
     },
     "metadata": {
      "needs_background": "light"
     },
     "output_type": "display_data"
    }
   ],
   "source": [
    "# Plot 5\n",
    "# Revenue vs Region\n",
    "sns.countplot(x = data['Region'], hue = data['Revenue'], palette='Dark2')\n",
    "plt.title('Revenue vs Region')\n",
    "plt.show()"
   ]
  },
  {
   "cell_type": "markdown",
   "id": "7e4103dd",
   "metadata": {},
   "source": [
    "From the above plot, we can confirm that the people from all regions use online shopping. Hence, our hypothesis is ***incorrect***."
   ]
  },
  {
   "cell_type": "markdown",
   "id": "e05c77b1",
   "metadata": {},
   "source": [
    "**Hypothesis 6: Exit rates has impact on the purchase factor**"
   ]
  },
  {
   "cell_type": "code",
   "execution_count": 52,
   "id": "e263fbe3",
   "metadata": {},
   "outputs": [
    {
     "data": {
      "image/png": "[encoded data removed]",
      "text/plain": [
       "<Figure size 432x288 with 1 Axes>"
      ]
     },
     "metadata": {
      "needs_background": "light"
     },
     "output_type": "display_data"
    }
   ],
   "source": [
    "# Plot 6\n",
    "# Revenue vs Exit rate\n",
    "sns.barplot(x=data['Revenue'], y=data['ExitRates']) \n",
    "# Set title \n",
    "plt.title(\"Revenue vs Exit Rate\")\n",
    "plt.show()"
   ]
  },
  {
   "cell_type": "markdown",
   "id": "dc4e5097",
   "metadata": {},
   "source": [
    "From the above plot, we can observe that the exit rates are low whenever there is a 'Purchase' made. This shows that exit rates has impact on purchase factor and hence, our hypothesis is *correct*."
   ]
  },
  {
   "cell_type": "markdown",
   "id": "8bcdb414",
   "metadata": {},
   "source": [
    "**Hypothesis 7: Online shoppers are spread across various regions**"
   ]
  },
  {
   "cell_type": "code",
   "execution_count": 53,
   "id": "5e1ac55b",
   "metadata": {},
   "outputs": [
    {
     "data": {
      "image/png": "[encoded data removed]",
      "text/plain": [
       "<Figure size 432x288 with 1 Axes>"
      ]
     },
     "metadata": {
      "needs_background": "light"
     },
     "output_type": "display_data"
    }
   ],
   "source": [
    "# Plot 7\n",
    "# Visitor type vs Region\n",
    "sns.countplot(x =data['Region'], hue=data['VisitorType'], palette ='gist_rainbow_r')\n",
    "plt.title('Visitor Type vs Region')\n",
    "plt.show()"
   ]
  },
  {
   "cell_type": "markdown",
   "id": "eb4d2324",
   "metadata": {},
   "source": [
    "From the above plot, we can confirm that the online shoppers are spread across all the regions with majority of them are from Region 1. This confirms our hypothesis to be ***correct***."
   ]
  },
  {
   "cell_type": "markdown",
   "id": "c870a0f2",
   "metadata": {},
   "source": [
    "**Hypothesis 8: Purchase rate depends upon the amount of website's information provided in the shopping sites**"
   ]
  },
  {
   "cell_type": "code",
   "execution_count": 54,
   "id": "ac25beb8",
   "metadata": {},
   "outputs": [
    {
     "data": {
      "image/png": "[encoded data removed]",
      "text/plain": [
       "<Figure size 432x288 with 1 Axes>"
      ]
     },
     "metadata": {
      "needs_background": "light"
     },
     "output_type": "display_data"
    }
   ],
   "source": [
    "# Plot 8\n",
    "# Revenue vs Informational Duration\n",
    "sns.barplot(y =data['Informational_Duration'], x=data['Revenue'], hue=data['Revenue'], palette ='Dark2')\n",
    "plt.title('Visitor Type vs Region')\n",
    "plt.show()"
   ]
  },
  {
   "cell_type": "markdown",
   "id": "2020e7f2",
   "metadata": {},
   "source": [
    "**Hypothesis 9: Purchase rate depends upon the amount of product related information provided in the shopping sites**"
   ]
  },
  {
   "cell_type": "code",
   "execution_count": 55,
   "id": "1f1bd33e",
   "metadata": {},
   "outputs": [
    {
     "data": {
      "image/png": "[encoded data removed]",
      "text/plain": [
       "<Figure size 432x288 with 1 Axes>"
      ]
     },
     "metadata": {
      "needs_background": "light"
     },
     "output_type": "display_data"
    }
   ],
   "source": [
    "# Plot 9\n",
    "# Revenue vs Product Related Duration\n",
    "sns.barplot(y =data['ProductRelated_Duration'], x=data['Revenue'],hue=data['Revenue'], palette='CMRmap')\n",
    "plt.title('Visitor Type vs Region')\n",
    "plt.show()"
   ]
  },
  {
   "cell_type": "markdown",
   "id": "7e7575ed",
   "metadata": {},
   "source": [
    "From the above two graphs, we can confirm that, as the duration in the product or informational pages are more, it is more likely that there is a purchase made. Hence, this confirms our hypothesis 8 and 9 to be ***correct***."
   ]
  },
  {
   "cell_type": "markdown",
   "id": "67b7fd4b",
   "metadata": {},
   "source": [
    "**Hypothesis 10: Purchase factor depends on page value of the pages visited by the customer**"
   ]
  },
  {
   "cell_type": "code",
   "execution_count": 56,
   "id": "a71d29b7",
   "metadata": {},
   "outputs": [
    {
     "data": {
      "image/png": "[encoded data removed]",
      "text/plain": [
       "<Figure size 432x288 with 1 Axes>"
      ]
     },
     "metadata": {
      "needs_background": "light"
     },
     "output_type": "display_data"
    }
   ],
   "source": [
    "# Plot 10\n",
    "# Pagevalue vs Revenue\n",
    "sns.barplot(y=data['PageValues'], x=data['Revenue'], palette='autumn')\n",
    "plt.title('Page Value vs Revenue')\n",
    "plt.show()"
   ]
  },
  {
   "cell_type": "markdown",
   "id": "e9305d6e",
   "metadata": {},
   "source": [
    "From the above plot, we can observe that whenever there is a purchase, the average page value of the pages visited by the visitor is larger. This confirms our hypothesis to be ***correct***."
   ]
  },
  {
   "cell_type": "markdown",
   "id": "5d391f26",
   "metadata": {},
   "source": [
    "### Task 3: Data Modelling"
   ]
  },
  {
   "cell_type": "markdown",
   "id": "11a963c5",
   "metadata": {},
   "source": [
    "Before we start with data modelling, we need to convert some attribute's data type and convert all the non-numeric values into numeric.."
   ]
  },
  {
   "cell_type": "code",
   "execution_count": 59,
   "id": "9e4d3aac",
   "metadata": {},
   "outputs": [],
   "source": [
    "# Mapping values of Month with their respective numeric values\n",
    "# month={'Feb':2,'Mar':3,'May':5,'June':6,'Jul':7,'Aug':8,'Sep':9,'Oct':10,'Nov':11,'Dec':12}\n",
    "# data['Month']= data['Month'].map(month)\n",
    "data['Month'] = data['Month'].replace(['Feb','Mar','May','June','Jul','Aug','Sep','Oct','Nov','Dec'],['2','3','5','6','7','8','9','10','11','12'])\n",
    "data['Month'] = data['Month'].astype(\"int\")\n",
    "data['VisitorType'] = data['VisitorType'].replace([\"Returning_Visitor\", \"New_Visitor\",\"Other\"], [\"0\",\"1\",\"2\"])\n",
    "data['VisitorType'] = data['VisitorType'].astype(\"int\")\n",
    "data['Weekend'] = data['Weekend'].replace([False, True], [\"0\",\"1\"])\n",
    "data['Weekend'] = data['Weekend'].astype(\"int\")\n",
    "data['BounceRates'] = data['BounceRates'].astype(\"int\")\n",
    "data['ExitRates'] = data['ExitRates'].astype(\"int\")\n",
    "data['PageValues'] = data['PageValues'].astype(\"int\")\n",
    "data['SpecialDay'] = data['SpecialDay'].astype(\"int\")\n",
    "data['Revenue'] = data['Revenue'].replace([False, True], [\"0\",\"1\"])\n",
    "data['Revenue'] = data['Revenue'].astype(\"int\")"
   ]
  },
  {
   "cell_type": "markdown",
   "id": "57946919",
   "metadata": {},
   "source": [
    "###### Creating datasets to train the model and converting them to numpy arrays"
   ]
  },
  {
   "cell_type": "code",
   "execution_count": 61,
   "id": "7807a13f",
   "metadata": {},
   "outputs": [],
   "source": [
    "target = data['Revenue']\n",
    "descriptive = data.drop(['Revenue'], axis=1)\n",
    "descriptive = descriptive.to_numpy()\n",
    "target = target.to_numpy()"
   ]
  },
  {
   "cell_type": "code",
   "execution_count": 62,
   "id": "431c5426",
   "metadata": {},
   "outputs": [],
   "source": [
    "# Creating test and train variables\n",
    "X_train, X_test, y_train, y_test = train_test_split(descriptive,target,test_size=0.2,random_state=1)"
   ]
  },
  {
   "cell_type": "code",
   "execution_count": 63,
   "id": "614d2d7c",
   "metadata": {},
   "outputs": [
    {
     "data": {
      "text/plain": [
       "(8069, 17)"
      ]
     },
     "execution_count": 63,
     "metadata": {},
     "output_type": "execute_result"
    }
   ],
   "source": [
    "X_train.shape"
   ]
  },
  {
   "cell_type": "code",
   "execution_count": 64,
   "id": "9e5d4956",
   "metadata": {},
   "outputs": [
    {
     "data": {
      "text/plain": [
       "(2018, 17)"
      ]
     },
     "execution_count": 64,
     "metadata": {},
     "output_type": "execute_result"
    }
   ],
   "source": [
    "X_test.shape"
   ]
  },
  {
   "cell_type": "code",
   "execution_count": 65,
   "id": "c70c3f91",
   "metadata": {},
   "outputs": [
    {
     "data": {
      "text/plain": [
       "(8069,)"
      ]
     },
     "execution_count": 65,
     "metadata": {},
     "output_type": "execute_result"
    }
   ],
   "source": [
    "y_train.shape"
   ]
  },
  {
   "cell_type": "code",
   "execution_count": 66,
   "id": "d1314ade",
   "metadata": {},
   "outputs": [
    {
     "data": {
      "text/plain": [
       "(2018,)"
      ]
     },
     "execution_count": 66,
     "metadata": {},
     "output_type": "execute_result"
    }
   ],
   "source": [
    "y_test.shape"
   ]
  },
  {
   "cell_type": "markdown",
   "id": "a8c8ff6b",
   "metadata": {},
   "source": [
    "##### Model 1: K Nearest Neighbor Classifier"
   ]
  },
  {
   "cell_type": "markdown",
   "id": "de6e38cd",
   "metadata": {},
   "source": [
    "###### Finding k value"
   ]
  },
  {
   "cell_type": "markdown",
   "id": "4b3f0e3c",
   "metadata": {},
   "source": [
    "Choosing maxk as 101, because maximum value for k is calculated using maxk=sqrt(n) i.e sqrt(10084)=100.43"
   ]
  },
  {
   "cell_type": "code",
   "execution_count": 67,
   "id": "d5fdc8a0",
   "metadata": {},
   "outputs": [
    {
     "name": "stdout",
     "output_type": "stream",
     "text": [
      "miniK =  16 , miniError =  0.1491575817641229\n"
     ]
    }
   ],
   "source": [
    "errors_lst = []\n",
    "maxk=101\n",
    "for k in range(1,maxk):\n",
    "    model = KNeighborsClassifier(n_neighbors = k)\n",
    "    model.fit(X_train, y_train) \n",
    "    y_pred = model.predict(X_test)\n",
    "    errors = mean_squared_error(y_test,y_pred)\n",
    "    errors_lst.append(errors)\n",
    "miniK = np.argmin(errors_lst)\n",
    "print(\"miniK = \", miniK+1, \", miniError = \", errors_lst[miniK])"
   ]
  },
  {
   "cell_type": "code",
   "execution_count": 68,
   "id": "d924ec60",
   "metadata": {},
   "outputs": [
    {
     "name": "stdout",
     "output_type": "stream",
     "text": [
      "Best Value of k using elbow curve is  15  with value =  0.14965312190287414\n"
     ]
    },
    {
     "data": {
      "image/png": "[encoded data removed]",
      "text/plain": [
       "<Figure size 432x288 with 1 Axes>"
      ]
     },
     "metadata": {
      "needs_background": "light"
     },
     "output_type": "display_data"
    }
   ],
   "source": [
    "kVec=np.arange(1,maxk)\n",
    "plt.xlabel('k')\n",
    "plt.ylabel('MSE')\n",
    "plt.title(\"Elbow Curve to find optimal value of k\")\n",
    "plt.plot(kVec,errors_lst)\n",
    "cor_k=np.argmin(errors_lst)\n",
    "plt.plot(cor_k,errors_lst[cor_k+1],'rx')\n",
    "plt.annotate(\"  elbow point\", (cor_k,errors_lst[cor_k+1]))\n",
    "print(\"Best Value of k using elbow curve is \",cor_k,\" with value = \", errors_lst[cor_k+1])"
   ]
  },
  {
   "cell_type": "markdown",
   "id": "64a58916",
   "metadata": {},
   "source": [
    "From the above elbow curve plot, it is clear that MSE is low when k=15 and hence, choosing __k=15__ would be a reasonable and optimal value."
   ]
  },
  {
   "cell_type": "markdown",
   "id": "f97713c3",
   "metadata": {},
   "source": [
    "###### Feature Selection"
   ]
  },
  {
   "cell_type": "code",
   "execution_count": 69,
   "id": "272b7c82",
   "metadata": {},
   "outputs": [
    {
     "name": "stdout",
     "output_type": "stream",
     "text": [
      "Score with 1 selected features: 0.8240832507433102\n",
      "Score with 2 selected features: 0.8250743310208127\n",
      "Score with 3 selected features: 0.8250743310208127\n",
      "Score with 4 selected features: 0.8250743310208127\n",
      "Score with 5 selected features: 0.8250743310208127\n",
      "Score with 6 selected features: 0.8250743310208127\n",
      "Score with 7 selected features: 0.8255698711595639\n",
      "Score with 8 selected features: 0.8255698711595639\n",
      "Score with 9 selected features: 0.8255698711595639\n",
      "Score with 10 selected features: 0.8795837462834489\n",
      "Score with 11 selected features: 0.8795837462834489\n"
     ]
    }
   ],
   "source": [
    "## Feature Selection\n",
    "new_index = []\n",
    "cur_maxScore = 0.0\n",
    "col_num = descriptive.shape[1]\n",
    "rand_col_ind = shuffle(range(0,col_num), random_state=1)\n",
    "\n",
    "for cur_feat in range(0, col_num):\n",
    "    new_index.append(rand_col_ind[cur_feat])\n",
    "    new_data = descriptive[:, new_index]\n",
    "    X_train, X_test, y_train, y_test = train_test_split(new_data,target, test_size=0.2, random_state=0)\n",
    "    clf = KNeighborsClassifier(15)\n",
    "    fit = clf.fit(X_train, y_train)\n",
    "    cur_score = clf.score(X_test, y_test)\n",
    "    if cur_score < cur_maxScore:\n",
    "        new_index.remove(rand_col_ind[cur_feat])\n",
    "    else:\n",
    "        cur_maxScore = cur_score\n",
    "        print(\"Score with \" + str(len(new_index)) + \" selected features: \" + str(cur_score))"
   ]
  },
  {
   "cell_type": "code",
   "execution_count": 70,
   "id": "3516068e",
   "metadata": {},
   "outputs": [
    {
     "name": "stdout",
     "output_type": "stream",
     "text": [
      "There are 11 features selected:\n",
      "[3, 13, 7, 6, 1, 0, 16, 15, 9, 8, 12]\n"
     ]
    }
   ],
   "source": [
    "print(\"There are \" + str(len(new_index)) + \" features selected:\")\n",
    "print(new_index)"
   ]
  },
  {
   "cell_type": "code",
   "execution_count": 71,
   "id": "9df5091a",
   "metadata": {},
   "outputs": [
    {
     "name": "stdout",
     "output_type": "stream",
     "text": [
      "Informational_Duration\n",
      "Region\n",
      "ExitRates\n",
      "BounceRates\n",
      "Administrative_Duration\n",
      "Administrative\n",
      "Weekend\n",
      "VisitorType\n",
      "SpecialDay\n",
      "PageValues\n",
      "Browser\n"
     ]
    }
   ],
   "source": [
    "# Features selected\n",
    "for i in new_index:\n",
    "    print(data.columns[i])"
   ]
  },
  {
   "cell_type": "markdown",
   "id": "d9b76470",
   "metadata": {},
   "source": [
    "Score increases gradually as features increases and the score value is maximum when features selected is 10, 11."
   ]
  },
  {
   "cell_type": "markdown",
   "id": "aff90b37",
   "metadata": {},
   "source": [
    "###### KNN Model with features from feature selection with maximum accuracy"
   ]
  },
  {
   "cell_type": "code",
   "execution_count": 72,
   "id": "a8d7fff0",
   "metadata": {},
   "outputs": [
    {
     "data": {
      "text/html": [
       "<div>\n",
       "<style scoped>\n",
       "    .dataframe tbody tr th:only-of-type {\n",
       "        vertical-align: middle;\n",
       "    }\n",
       "\n",
       "    .dataframe tbody tr th {\n",
       "        vertical-align: top;\n",
       "    }\n",
       "\n",
       "    .dataframe thead th {\n",
       "        text-align: right;\n",
       "    }\n",
       "</style>\n",
       "<table border=\"1\" class=\"dataframe\">\n",
       "  <thead>\n",
       "    <tr style=\"text-align: right;\">\n",
       "      <th></th>\n",
       "      <th>Informational_Duration</th>\n",
       "      <th>Region</th>\n",
       "      <th>ExitRates</th>\n",
       "      <th>BounceRates</th>\n",
       "      <th>Administrative_Duration</th>\n",
       "      <th>Administrative</th>\n",
       "      <th>Weekend</th>\n",
       "      <th>VisitorType</th>\n",
       "      <th>SpecialDay</th>\n",
       "      <th>PageValues</th>\n",
       "      <th>Browser</th>\n",
       "    </tr>\n",
       "  </thead>\n",
       "  <tbody>\n",
       "    <tr>\n",
       "      <th>0</th>\n",
       "      <td>0.0</td>\n",
       "      <td>1</td>\n",
       "      <td>0</td>\n",
       "      <td>0</td>\n",
       "      <td>0.0</td>\n",
       "      <td>0</td>\n",
       "      <td>0</td>\n",
       "      <td>0</td>\n",
       "      <td>0</td>\n",
       "      <td>0</td>\n",
       "      <td>2</td>\n",
       "    </tr>\n",
       "    <tr>\n",
       "      <th>1</th>\n",
       "      <td>0.0</td>\n",
       "      <td>1</td>\n",
       "      <td>0</td>\n",
       "      <td>0</td>\n",
       "      <td>0.0</td>\n",
       "      <td>0</td>\n",
       "      <td>1</td>\n",
       "      <td>0</td>\n",
       "      <td>0</td>\n",
       "      <td>0</td>\n",
       "      <td>3</td>\n",
       "    </tr>\n",
       "    <tr>\n",
       "      <th>2</th>\n",
       "      <td>0.0</td>\n",
       "      <td>1</td>\n",
       "      <td>0</td>\n",
       "      <td>0</td>\n",
       "      <td>0.0</td>\n",
       "      <td>0</td>\n",
       "      <td>0</td>\n",
       "      <td>0</td>\n",
       "      <td>0</td>\n",
       "      <td>0</td>\n",
       "      <td>2</td>\n",
       "    </tr>\n",
       "    <tr>\n",
       "      <th>3</th>\n",
       "      <td>0.0</td>\n",
       "      <td>2</td>\n",
       "      <td>0</td>\n",
       "      <td>0</td>\n",
       "      <td>0.0</td>\n",
       "      <td>0</td>\n",
       "      <td>0</td>\n",
       "      <td>0</td>\n",
       "      <td>0</td>\n",
       "      <td>0</td>\n",
       "      <td>2</td>\n",
       "    </tr>\n",
       "    <tr>\n",
       "      <th>4</th>\n",
       "      <td>0.0</td>\n",
       "      <td>1</td>\n",
       "      <td>0</td>\n",
       "      <td>0</td>\n",
       "      <td>0.0</td>\n",
       "      <td>0</td>\n",
       "      <td>0</td>\n",
       "      <td>0</td>\n",
       "      <td>0</td>\n",
       "      <td>0</td>\n",
       "      <td>4</td>\n",
       "    </tr>\n",
       "  </tbody>\n",
       "</table>\n",
       "</div>"
      ],
      "text/plain": [
       "   Informational_Duration  Region  ExitRates  BounceRates  \\\n",
       "0                     0.0       1          0            0   \n",
       "1                     0.0       1          0            0   \n",
       "2                     0.0       1          0            0   \n",
       "3                     0.0       2          0            0   \n",
       "4                     0.0       1          0            0   \n",
       "\n",
       "   Administrative_Duration  Administrative  Weekend  VisitorType  SpecialDay  \\\n",
       "0                      0.0               0        0            0           0   \n",
       "1                      0.0               0        1            0           0   \n",
       "2                      0.0               0        0            0           0   \n",
       "3                      0.0               0        0            0           0   \n",
       "4                      0.0               0        0            0           0   \n",
       "\n",
       "   PageValues  Browser  \n",
       "0           0        2  \n",
       "1           0        3  \n",
       "2           0        2  \n",
       "3           0        2  \n",
       "4           0        4  "
      ]
     },
     "execution_count": 72,
     "metadata": {},
     "output_type": "execute_result"
    }
   ],
   "source": [
    "# Creating new dataframe with selected features\n",
    "descriptive_f_o = data.iloc[:, new_index]\n",
    "descriptive_f = descriptive_f_o.to_numpy()\n",
    "descriptive_f_o.head()"
   ]
  },
  {
   "cell_type": "code",
   "execution_count": 73,
   "id": "75ff1bff",
   "metadata": {},
   "outputs": [],
   "source": [
    "# Fitting and predicting the model\n",
    "X_train, X_test, y_train, y_test = train_test_split(descriptive_f,target,test_size=0.2,random_state=0)\n",
    "clf = KNeighborsClassifier(15)\n",
    "fit = clf.fit(X_train, y_train)\n",
    "y_pred = fit.predict(X_test)"
   ]
  },
  {
   "cell_type": "code",
   "execution_count": 74,
   "id": "5e5eb295",
   "metadata": {},
   "outputs": [
    {
     "name": "stdout",
     "output_type": "stream",
     "text": [
      "[[1598   69]\n",
      " [ 174  177]]\n"
     ]
    }
   ],
   "source": [
    "# Confusion matrix\n",
    "cm = confusion_matrix(y_test, y_pred)\n",
    "print(cm)"
   ]
  },
  {
   "cell_type": "code",
   "execution_count": 75,
   "id": "e6c822ae",
   "metadata": {},
   "outputs": [
    {
     "name": "stdout",
     "output_type": "stream",
     "text": [
      "              precision    recall  f1-score   support\n",
      "\n",
      "           0       0.90      0.96      0.93      1667\n",
      "           1       0.72      0.50      0.59       351\n",
      "\n",
      "    accuracy                           0.88      2018\n",
      "   macro avg       0.81      0.73      0.76      2018\n",
      "weighted avg       0.87      0.88      0.87      2018\n",
      "\n"
     ]
    }
   ],
   "source": [
    "# Classification report\n",
    "print(classification_report(y_test,y_pred))"
   ]
  },
  {
   "cell_type": "markdown",
   "id": "f9255b45",
   "metadata": {},
   "source": [
    "##### Parameter Tuning"
   ]
  },
  {
   "cell_type": "markdown",
   "id": "6b10fa91",
   "metadata": {},
   "source": [
    "Choosing **weights='distance'**, because data is not uniform."
   ]
  },
  {
   "cell_type": "code",
   "execution_count": 76,
   "id": "112418c3",
   "metadata": {},
   "outputs": [],
   "source": [
    "# Fitting and predicting the model\n",
    "clf = KNeighborsClassifier(15, weights='distance')\n",
    "fit = clf.fit(X_train, y_train)\n",
    "y_pred = fit.predict(X_test)"
   ]
  },
  {
   "cell_type": "code",
   "execution_count": 77,
   "id": "29bd778f",
   "metadata": {},
   "outputs": [
    {
     "name": "stdout",
     "output_type": "stream",
     "text": [
      "[[1589   78]\n",
      " [ 180  171]]\n"
     ]
    }
   ],
   "source": [
    "# Confusion matrix\n",
    "cm = confusion_matrix(y_test, y_pred)\n",
    "print(cm)"
   ]
  },
  {
   "cell_type": "code",
   "execution_count": 78,
   "id": "095ef811",
   "metadata": {},
   "outputs": [
    {
     "name": "stdout",
     "output_type": "stream",
     "text": [
      "              precision    recall  f1-score   support\n",
      "\n",
      "           0       0.90      0.95      0.92      1667\n",
      "           1       0.69      0.49      0.57       351\n",
      "\n",
      "    accuracy                           0.87      2018\n",
      "   macro avg       0.79      0.72      0.75      2018\n",
      "weighted avg       0.86      0.87      0.86      2018\n",
      "\n"
     ]
    }
   ],
   "source": [
    "# Classification report\n",
    "print(classification_report(y_test,y_pred))"
   ]
  },
  {
   "cell_type": "markdown",
   "id": "1b6f3d94",
   "metadata": {},
   "source": [
    "Choosing additional parameter p, smaller p value (**p=1**) as dataset is of high dimension"
   ]
  },
  {
   "cell_type": "code",
   "execution_count": 79,
   "id": "e6a43498",
   "metadata": {},
   "outputs": [],
   "source": [
    "# Fitting and predicting the model\n",
    "clf = KNeighborsClassifier(15, weights='distance', p=1)\n",
    "fit = clf.fit(X_train, y_train)\n",
    "y_pred = fit.predict(X_test)"
   ]
  },
  {
   "cell_type": "code",
   "execution_count": 80,
   "id": "019a6207",
   "metadata": {},
   "outputs": [
    {
     "name": "stdout",
     "output_type": "stream",
     "text": [
      "[[1594   73]\n",
      " [ 186  165]]\n"
     ]
    }
   ],
   "source": [
    "# Confusion matrix\n",
    "cm = confusion_matrix(y_test, y_pred)\n",
    "print(cm)"
   ]
  },
  {
   "cell_type": "code",
   "execution_count": 81,
   "id": "8bdd349f",
   "metadata": {},
   "outputs": [
    {
     "name": "stdout",
     "output_type": "stream",
     "text": [
      "              precision    recall  f1-score   support\n",
      "\n",
      "           0       0.90      0.96      0.92      1667\n",
      "           1       0.69      0.47      0.56       351\n",
      "\n",
      "    accuracy                           0.87      2018\n",
      "   macro avg       0.79      0.71      0.74      2018\n",
      "weighted avg       0.86      0.87      0.86      2018\n",
      "\n"
     ]
    }
   ],
   "source": [
    "# Classification report\n",
    "print(classification_report(y_test,y_pred))"
   ]
  },
  {
   "cell_type": "markdown",
   "id": "e1c06b88",
   "metadata": {},
   "source": [
    "##### KFold Cross Validation"
   ]
  },
  {
   "cell_type": "code",
   "execution_count": 82,
   "id": "bbc768a8",
   "metadata": {},
   "outputs": [
    {
     "name": "stdout",
     "output_type": "stream",
     "text": [
      "[Train/test split] score: 0.87166\n"
     ]
    }
   ],
   "source": [
    "# Calculating the score of the model\n",
    "print(\"[Train/test split] score: {:.5f}\".format(clf.score(X_test, y_test)))"
   ]
  },
  {
   "cell_type": "code",
   "execution_count": 83,
   "id": "6ef8c861",
   "metadata": {},
   "outputs": [],
   "source": [
    "# Set KFold cross validation\n",
    "from sklearn.model_selection import KFold\n",
    "kf = KFold(n_splits=5,random_state=0, shuffle=True)"
   ]
  },
  {
   "cell_type": "code",
   "execution_count": 84,
   "id": "49f29d94",
   "metadata": {
    "scrolled": true
   },
   "outputs": [
    {
     "name": "stdout",
     "output_type": "stream",
     "text": [
      "[fold 0] score: 0.87215\n",
      "[fold 1] score: 0.86373\n",
      "[fold 2] score: 0.87853\n",
      "[fold 3] score: 0.87457\n",
      "[fold 4] score: 0.86267\n"
     ]
    }
   ],
   "source": [
    "# Run the KFold cross validation\n",
    "for k, (train_index, test_index) in enumerate(kf.split(descriptive_f_o)):\n",
    " \n",
    "    X_train, X_test = descriptive_f[train_index], descriptive_f[test_index]\n",
    "    y_train, y_test = target[train_index], target[test_index]\n",
    "     \n",
    "    clf.fit(X_train, y_train)\n",
    "    print(\"[fold {0}] score: {1:.5f}\".format(k, clf.score(X_test, y_test)))"
   ]
  },
  {
   "cell_type": "markdown",
   "id": "59686a21",
   "metadata": {},
   "source": [
    "##### Model 2: Decision Tree Classification"
   ]
  },
  {
   "cell_type": "markdown",
   "id": "f67ef741",
   "metadata": {},
   "source": [
    "###### Feature selection and Parameter Tuning for Decision Tree Classifier Model"
   ]
  },
  {
   "cell_type": "markdown",
   "id": "eee819a1",
   "metadata": {},
   "source": [
    "Parameters: criterion='gini' default, max_depth=3 as lower the max depth, lower is over fitting of the model, max_features='auto' because it chooses sqrt(max_features) and as per rule-of-thumb it works well.(As a rule-of-thumb, the square root of the total number of features works well)"
   ]
  },
  {
   "cell_type": "code",
   "execution_count": 85,
   "id": "89cdc20f",
   "metadata": {},
   "outputs": [
    {
     "name": "stdout",
     "output_type": "stream",
     "text": [
      "Score with 1 selected features: 0.8265609514370664\n",
      "Score with 2 selected features: 0.8265609514370664\n",
      "Score with 3 selected features: 0.8265609514370664\n",
      "Score with 4 selected features: 0.8265609514370664\n",
      "Score with 5 selected features: 0.8265609514370664\n",
      "Score with 6 selected features: 0.8265609514370664\n",
      "Score with 7 selected features: 0.8731417244796829\n",
      "Score with 8 selected features: 0.8731417244796829\n",
      "Score with 9 selected features: 0.8731417244796829\n",
      "Score with 10 selected features: 0.8731417244796829\n"
     ]
    }
   ],
   "source": [
    "## Feature Selection with default parameters\n",
    "new_index = []\n",
    "cur_maxScore = 0.0\n",
    "col_num = descriptive.shape[1]\n",
    "rand_col_ind = shuffle(range(0,col_num), random_state=1)\n",
    "\n",
    "for cur_feat in range(0, col_num):\n",
    "    new_index.append(rand_col_ind[cur_feat])\n",
    "    new_data = descriptive[:, new_index]\n",
    "    #print(new_data)\n",
    "    X_train_tree, X_test_tree, y_train_tree, y_test_tree = train_test_split(new_data,target, test_size=0.2, random_state=0)\n",
    "    clf = DecisionTreeClassifier(criterion='gini', max_depth=3, random_state=0)\n",
    "    fit = clf.fit(X_train_tree, y_train_tree)\n",
    "    cur_score = clf.score(X_test_tree, y_test_tree)\n",
    "    if cur_score < cur_maxScore:\n",
    "        new_index.remove(rand_col_ind[cur_feat])\n",
    "    else:\n",
    "        cur_maxScore = cur_score\n",
    "        print(\"Score with \" + str(len(new_index)) + \" selected features: \" + str(cur_score))"
   ]
  },
  {
   "cell_type": "code",
   "execution_count": 86,
   "id": "dc33db94",
   "metadata": {},
   "outputs": [
    {
     "name": "stdout",
     "output_type": "stream",
     "text": [
      "There are 10 features selected:\n",
      "[3, 7, 6, 14, 16, 9, 8, 12, 11, 5]\n"
     ]
    }
   ],
   "source": [
    "print(\"There are \" + str(len(new_index)) + \" features selected:\")\n",
    "print(new_index)"
   ]
  },
  {
   "cell_type": "code",
   "execution_count": 87,
   "id": "5e77320e",
   "metadata": {},
   "outputs": [
    {
     "name": "stdout",
     "output_type": "stream",
     "text": [
      "Informational_Duration\n",
      "ExitRates\n",
      "BounceRates\n",
      "TrafficType\n",
      "Weekend\n",
      "SpecialDay\n",
      "PageValues\n",
      "Browser\n",
      "OperatingSystems\n",
      "ProductRelated_Duration\n"
     ]
    }
   ],
   "source": [
    "# Features selected\n",
    "for i in new_index:\n",
    "    print(data.columns[i])"
   ]
  },
  {
   "cell_type": "markdown",
   "id": "a058941e",
   "metadata": {},
   "source": [
    "Score increases as features increases and the score value is nearly same and maximum when features selected is 7, 8, 9 and 10."
   ]
  },
  {
   "cell_type": "markdown",
   "id": "71a6f6fa",
   "metadata": {},
   "source": [
    "###### Parameter Tuning"
   ]
  },
  {
   "cell_type": "code",
   "execution_count": 88,
   "id": "3e18571b",
   "metadata": {},
   "outputs": [
    {
     "data": {
      "text/html": [
       "<div>\n",
       "<style scoped>\n",
       "    .dataframe tbody tr th:only-of-type {\n",
       "        vertical-align: middle;\n",
       "    }\n",
       "\n",
       "    .dataframe tbody tr th {\n",
       "        vertical-align: top;\n",
       "    }\n",
       "\n",
       "    .dataframe thead th {\n",
       "        text-align: right;\n",
       "    }\n",
       "</style>\n",
       "<table border=\"1\" class=\"dataframe\">\n",
       "  <thead>\n",
       "    <tr style=\"text-align: right;\">\n",
       "      <th></th>\n",
       "      <th>Informational_Duration</th>\n",
       "      <th>ExitRates</th>\n",
       "      <th>BounceRates</th>\n",
       "      <th>TrafficType</th>\n",
       "      <th>Weekend</th>\n",
       "      <th>SpecialDay</th>\n",
       "      <th>PageValues</th>\n",
       "      <th>Browser</th>\n",
       "      <th>OperatingSystems</th>\n",
       "      <th>ProductRelated_Duration</th>\n",
       "    </tr>\n",
       "  </thead>\n",
       "  <tbody>\n",
       "    <tr>\n",
       "      <th>0</th>\n",
       "      <td>0.0</td>\n",
       "      <td>0</td>\n",
       "      <td>0</td>\n",
       "      <td>2</td>\n",
       "      <td>0</td>\n",
       "      <td>0</td>\n",
       "      <td>0</td>\n",
       "      <td>2</td>\n",
       "      <td>2</td>\n",
       "      <td>64.000000</td>\n",
       "    </tr>\n",
       "    <tr>\n",
       "      <th>1</th>\n",
       "      <td>0.0</td>\n",
       "      <td>0</td>\n",
       "      <td>0</td>\n",
       "      <td>4</td>\n",
       "      <td>1</td>\n",
       "      <td>0</td>\n",
       "      <td>0</td>\n",
       "      <td>3</td>\n",
       "      <td>3</td>\n",
       "      <td>627.500000</td>\n",
       "    </tr>\n",
       "    <tr>\n",
       "      <th>2</th>\n",
       "      <td>0.0</td>\n",
       "      <td>0</td>\n",
       "      <td>0</td>\n",
       "      <td>3</td>\n",
       "      <td>0</td>\n",
       "      <td>0</td>\n",
       "      <td>0</td>\n",
       "      <td>2</td>\n",
       "      <td>2</td>\n",
       "      <td>154.216667</td>\n",
       "    </tr>\n",
       "    <tr>\n",
       "      <th>3</th>\n",
       "      <td>0.0</td>\n",
       "      <td>0</td>\n",
       "      <td>0</td>\n",
       "      <td>3</td>\n",
       "      <td>0</td>\n",
       "      <td>0</td>\n",
       "      <td>0</td>\n",
       "      <td>2</td>\n",
       "      <td>2</td>\n",
       "      <td>37.000000</td>\n",
       "    </tr>\n",
       "    <tr>\n",
       "      <th>4</th>\n",
       "      <td>0.0</td>\n",
       "      <td>0</td>\n",
       "      <td>0</td>\n",
       "      <td>2</td>\n",
       "      <td>0</td>\n",
       "      <td>0</td>\n",
       "      <td>0</td>\n",
       "      <td>4</td>\n",
       "      <td>2</td>\n",
       "      <td>738.000000</td>\n",
       "    </tr>\n",
       "  </tbody>\n",
       "</table>\n",
       "</div>"
      ],
      "text/plain": [
       "   Informational_Duration  ExitRates  BounceRates  TrafficType  Weekend  \\\n",
       "0                     0.0          0            0            2        0   \n",
       "1                     0.0          0            0            4        1   \n",
       "2                     0.0          0            0            3        0   \n",
       "3                     0.0          0            0            3        0   \n",
       "4                     0.0          0            0            2        0   \n",
       "\n",
       "   SpecialDay  PageValues  Browser  OperatingSystems  ProductRelated_Duration  \n",
       "0           0           0        2                 2                64.000000  \n",
       "1           0           0        3                 3               627.500000  \n",
       "2           0           0        2                 2               154.216667  \n",
       "3           0           0        2                 2                37.000000  \n",
       "4           0           0        4                 2               738.000000  "
      ]
     },
     "execution_count": 88,
     "metadata": {},
     "output_type": "execute_result"
    }
   ],
   "source": [
    "# Creating new dataframe with selected features\n",
    "descriptive_f_tree_o = data.iloc[:, new_index]\n",
    "descriptive_f_tree = descriptive_f_tree_o.to_numpy()\n",
    "descriptive_f_tree_o.head()"
   ]
  },
  {
   "cell_type": "code",
   "execution_count": 89,
   "id": "df30db72",
   "metadata": {},
   "outputs": [],
   "source": [
    "# Creating test and train datasets\n",
    "X_train_tree, X_test_tree, y_train_tree, y_test_tree = train_test_split(descriptive_f_tree,target,test_size=0.2,random_state=0)"
   ]
  },
  {
   "cell_type": "markdown",
   "id": "d1bc673e",
   "metadata": {},
   "source": [
    "Choosing **max_features='auto'** because it chooses sqrt(max_features) and as per rule-of-thumb it works well.(As a rule-of-thumb, the square root of the total number of features works well)\n",
    "Also, adding one more parameter **max_depth=3**. Lower the value of max_depth, lower is the over fitting of the data."
   ]
  },
  {
   "cell_type": "code",
   "execution_count": 90,
   "id": "56d91c34",
   "metadata": {},
   "outputs": [],
   "source": [
    "# Fitting and predicting the model\n",
    "clf = DecisionTreeClassifier(criterion='gini', max_features='auto', max_depth=3, random_state=0)\n",
    "fit = clf.fit(X_train_tree, y_train_tree)\n",
    "y_pred_tree = fit.predict(X_test_tree)"
   ]
  },
  {
   "cell_type": "code",
   "execution_count": 91,
   "id": "cddbefac",
   "metadata": {},
   "outputs": [
    {
     "name": "stdout",
     "output_type": "stream",
     "text": [
      "[[1601   66]\n",
      " [ 187  164]]\n"
     ]
    }
   ],
   "source": [
    "# Confusion matrix\n",
    "cm = confusion_matrix(y_test_tree, y_pred_tree)\n",
    "print(cm)"
   ]
  },
  {
   "cell_type": "code",
   "execution_count": 92,
   "id": "0642abef",
   "metadata": {},
   "outputs": [
    {
     "name": "stdout",
     "output_type": "stream",
     "text": [
      "              precision    recall  f1-score   support\n",
      "\n",
      "           0       0.90      0.96      0.93      1667\n",
      "           1       0.71      0.47      0.56       351\n",
      "\n",
      "    accuracy                           0.87      2018\n",
      "   macro avg       0.80      0.71      0.75      2018\n",
      "weighted avg       0.86      0.87      0.86      2018\n",
      "\n"
     ]
    }
   ],
   "source": [
    "# Classification report\n",
    "print(classification_report(y_test_tree,y_pred_tree))"
   ]
  },
  {
   "cell_type": "code",
   "execution_count": 93,
   "id": "9c11368a",
   "metadata": {},
   "outputs": [],
   "source": [
    "targ = ['0', '1']\n",
    "\n",
    "with open('decTree_1f.dot', 'w') as f:\n",
    "    f = tree.export_graphviz(clf, out_file= f,feature_names=descriptive_f_tree_o.columns,class_names=targ, filled=True, rounded=True, special_characters=True)"
   ]
  },
  {
   "cell_type": "markdown",
   "id": "aaeccfca",
   "metadata": {},
   "source": [
    "##### KFold Cross Validation"
   ]
  },
  {
   "cell_type": "code",
   "execution_count": 98,
   "id": "b99c7a88",
   "metadata": {},
   "outputs": [
    {
     "name": "stdout",
     "output_type": "stream",
     "text": [
      "[Train/test split] score: 0.87463\n"
     ]
    }
   ],
   "source": [
    "# Calculating the score of the model\n",
    "print(\"[Train/test split] score: {:.5f}\".format(clf.score(X_test_tree, y_test_tree)))"
   ]
  },
  {
   "cell_type": "code",
   "execution_count": 99,
   "id": "90748654",
   "metadata": {},
   "outputs": [],
   "source": [
    "# Set KFold cross validation\n",
    "from sklearn.model_selection import KFold\n",
    "kf = KFold(n_splits=5,random_state=0, shuffle=True)"
   ]
  },
  {
   "cell_type": "code",
   "execution_count": 100,
   "id": "6df9f262",
   "metadata": {},
   "outputs": [
    {
     "name": "stdout",
     "output_type": "stream",
     "text": [
      "[fold 0] score: 0.87463\n",
      "[fold 1] score: 0.85580\n",
      "[fold 2] score: 0.88894\n",
      "[fold 3] score: 0.86316\n",
      "[fold 4] score: 0.86267\n"
     ]
    }
   ],
   "source": [
    "# Run the KFold cross validation\n",
    "for k, (train_index, test_index) in enumerate(kf.split(descriptive_f_tree_o)):\n",
    " \n",
    "    X_train_tree, X_test_tree = descriptive_f_tree[train_index], descriptive_f_tree[test_index]\n",
    "    y_train_tree, y_test_tree = target[train_index], target[test_index]\n",
    "     \n",
    "    clf.fit(X_train_tree, y_train_tree)\n",
    "    print(\"[fold {0}] score: {1:.5f}\".format(k, clf.score(X_test_tree, y_test_tree)))"
   ]
  },
  {
   "cell_type": "markdown",
   "id": "a42966cb",
   "metadata": {},
   "source": [
    "### Conclusion\n",
    "\n",
    "From the above two constructed models - KNN Classifier and Decision Tree Classifier, with the accuracy score obtained predicting the test data, the **score of KNN Classifier (0.871) is greater than the score of Decision Tree Classifier (0.874)** (though nearly the same). Hence, I conclude by saying that with the features and parameters I have opted to use in these models, and considering the advantages and disadvantages of both the classifier models, precision, recall and f1-scores as well into account, **Decision Tree Classifier model best suits to predict the intention of the online shoppers (buy or no buy)**."
   ]
  },
  {
   "cell_type": "markdown",
   "id": "1695e9c3",
   "metadata": {},
   "source": [
    "### References\n",
    "\n",
    "- Sakar, C.O. et al. (2018) Real-time prediction of online shoppers’ purchasing intention using Multilayer Perceptron and LSTM recurrent neural networks - neural computing and applications, SpringerLink. Available at: https://link.springer.com/article/10.1007/s00521-018-3523-0 (Accessed: 09 May 2023). \n",
    "- Detect and remove the outliers using Python (2023) GeeksforGeeks. Available at: https://www.geeksforgeeks.org/detect-and-remove-the-outliers-using-python/ (Accessed: 10 May 2023).\n",
    "- Sklearn.neighbors.kneighborsclassifier (no date) scikit. Available at: https://scikit-learn.org/stable/modules/generated/sklearn.neighbors.KNeighborsClassifier.html (Accessed: 10 May 2023).\n",
    "- Band, A. (2023) How to find the optimal value of K in Knn?, Medium. Available at: https://towardsdatascience.com/how-to-find-the-optimal-value-of-k-in-knn-35d936e554eb (Accessed: 10 May 2023).\n",
    "- Sklearn.tree.decisiontreeclassifier (no date) scikit. Available at: https://scikit-learn.org/stable/modules/generated/sklearn.tree.DecisionTreeClassifier.html (Accessed: 10 May 2023).\n",
    "- Arya, N. (2022) Why use K-fold cross validation?, KDnuggets. Available at: https://www.kdnuggets.com/2022/07/kfold-cross-validation.html#:~:text=K%2Dfold%20Cross%2DValidation%20is,data%20sample%20is%20split%20into. (Accessed: 23 May 2023).\n",
    "- ARAT, M.M. (2019) A complete guide to K-nearest-neighbors with applications in Python, Mustafa Murat ARAT. Available at: https://mmuratarat.github.io/2019-07-12/k-nn-from-scratch#:~:text=K%2DNN%20algorithm%20is%20an,samples%20in%20the%20training%20dataset. (Accessed: 23 May 2023).\n",
    "- Ren, Yongli (2023) 'Introduction/What is Data Science?' [PowerPoint slides, COSC2670], RMIT University, Melbourne.\n",
    "- Ren, Yongli (2023) ' Classification (1)' [PowerPoint slides, COSC2670], RMIT University, Melbourne.\n",
    "- Ren, Yongli (2023) 'Classification (2)' [PowerPoint slides, COSC2670], RMIT University, Melbourne."
   ]
  }
 ],
 "metadata": {
  "kernelspec": {
   "display_name": "Python 3",
   "language": "python",
   "name": "python3"
  },
  "language_info": {
   "codemirror_mode": {
    "name": "ipython",
    "version": 3
   },
   "file_extension": ".py",
   "mimetype": "text/x-python",
   "name": "python",
   "nbconvert_exporter": "python",
   "pygments_lexer": "ipython3",
   "version": "3.8.8"
  }
 },
 "nbformat": 4,
 "nbformat_minor": 5
}
